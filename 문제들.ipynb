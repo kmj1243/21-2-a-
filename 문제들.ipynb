{
  "nbformat": 4,
  "nbformat_minor": 0,
  "metadata": {
    "colab": {
      "name": "문제들.ipynb",
      "provenance": [],
      "collapsed_sections": [],
      "authorship_tag": "ABX9TyP6QkaQLOEb6i6+DIk+sopF",
      "include_colab_link": true
    },
    "kernelspec": {
      "name": "python3",
      "display_name": "Python 3"
    },
    "language_info": {
      "name": "python"
    }
  },
  "cells": [
    {
      "cell_type": "markdown",
      "metadata": {
        "id": "view-in-github",
        "colab_type": "text"
      },
      "source": [
        "<a href=\"https://colab.research.google.com/github/kmj1243/21-2-a-/blob/main/%EB%AC%B8%EC%A0%9C%EB%93%A4.ipynb\" target=\"_parent\"><img src=\"https://colab.research.google.com/assets/colab-badge.svg\" alt=\"Open In Colab\"/></a>"
      ]
    },
    {
      "cell_type": "code",
      "metadata": {
        "colab": {
          "base_uri": "https://localhost:8080/"
        },
        "id": "NTlzdKuz1bON",
        "outputId": "156b4eec-1fbc-47bc-e015-9bba59222f17"
      },
      "source": [
        " def gugudan(n=2):\n",
        "   for i in range(2,10):\n",
        "      print(f'{n} * {i} = {n * i}')\n",
        "\n",
        "\n",
        "gugudan()"
      ],
      "execution_count": null,
      "outputs": [
        {
          "output_type": "stream",
          "name": "stdout",
          "text": [
            "2 * 2 = 4\n",
            "2 * 3 = 6\n",
            "2 * 4 = 8\n",
            "2 * 5 = 10\n",
            "2 * 6 = 12\n",
            "2 * 7 = 14\n",
            "2 * 8 = 16\n",
            "2 * 9 = 18\n"
          ]
        }
      ]
    },
    {
      "cell_type": "code",
      "metadata": {
        "id": "tjNXXIVQ4iha",
        "colab": {
          "base_uri": "https://localhost:8080/"
        },
        "outputId": "c51870bb-daa9-4f20-86bd-043759ee7031"
      },
      "source": [
        "import math\n",
        "def circle_area(dia):\n",
        "  r = dia/2\n",
        "  area = r**2 * math.pi\n",
        "  return area\n",
        "circle_area(4)"
      ],
      "execution_count": null,
      "outputs": [
        {
          "output_type": "execute_result",
          "data": {
            "text/plain": [
              "12.566370614359172"
            ]
          },
          "metadata": {},
          "execution_count": 6
        }
      ]
    },
    {
      "cell_type": "code",
      "metadata": {
        "id": "M7LfX3nW8Vad"
      },
      "source": [
        "\n"
      ],
      "execution_count": null,
      "outputs": []
    }
  ]
}