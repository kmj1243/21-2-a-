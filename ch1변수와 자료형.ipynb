{
  "nbformat": 4,
  "nbformat_minor": 0,
  "metadata": {
    "colab": {
      "name": "Untitled0.ipynb",
      "provenance": [],
      "collapsed_sections": [],
      "toc_visible": true,
      "authorship_tag": "ABX9TyMDd+Uf+eZP78uxEgLo6hc5",
      "include_colab_link": true
    },
    "kernelspec": {
      "name": "python3",
      "display_name": "Python 3"
    },
    "language_info": {
      "name": "python"
    }
  },
  "cells": [
    {
      "cell_type": "markdown",
      "metadata": {
        "id": "view-in-github",
        "colab_type": "text"
      },
      "source": [
        "<a href=\"https://colab.research.google.com/github/kmj1243/21-2-a-/blob/main/ch1%EB%B3%80%EC%88%98%EC%99%80%20%EC%9E%90%EB%A3%8C%ED%98%95.ipynb\" target=\"_parent\"><img src=\"https://colab.research.google.com/assets/colab-badge.svg\" alt=\"Open In Colab\"/></a>"
      ]
    },
    {
      "cell_type": "markdown",
      "metadata": {
        "id": "S-VIvP0DbbS8"
      },
      "source": [
        "## **학습목표**\n",
        "1. python 언어에서 변수의 의미를 이해하기\n",
        "2. 기본 데이터 타입 선언하기\n",
        " - int, float, str, boat\n",
        " "
      ]
    },
    {
      "cell_type": "markdown",
      "metadata": {
        "id": "rynBEsjX2tP_"
      },
      "source": [
        "## **변수 이름 규칙**\n",
        "\n",
        "- 시작을 영문 대소문자._ 구상 가능\n",
        "- but 숫자는 불가능\n",
        "- 일반적으로 변수를 표현할 때 정확하고 간결한 이름을 사용하는 것이 원칙"
      ]
    },
    {
      "cell_type": "code",
      "metadata": {
        "id": "awYheZha3S_W"
      },
      "source": [
        "abcABC = 1000\n",
        "___abc = 100\n",
        "ACBV = 100\n",
        "\n",
        "###6974 = 10"
      ],
      "execution_count": 1,
      "outputs": []
    },
    {
      "cell_type": "markdown",
      "metadata": {
        "id": "fUJk4alm3qDc"
      },
      "source": [
        "## **예약어(키워드)**\n",
        "\n",
        "- python에서 미리 선점해서 사용중인 키워드\n",
        "- import,fow,while,if,elif등..."
      ]
    },
    {
      "cell_type": "code",
      "metadata": {
        "id": "H5A60Quy4EQ2"
      },
      "source": [
        "_for = 100\n",
        "###for = 120"
      ],
      "execution_count": 2,
      "outputs": []
    },
    {
      "cell_type": "markdown",
      "metadata": {
        "id": "CiA9DHXCb1mU"
      },
      "source": [
        ""
      ]
    },
    {
      "cell_type": "markdown",
      "metadata": {
        "id": "ZIvKYj7V4Kzj"
      },
      "source": [
        "## **기본 데이터 타입**\n",
        "\n",
        "- 정수(int)\n",
        "- 실수(float)\n",
        "- 문자열(str)\n",
        "- 불리언(boolean)\n",
        "- type() 함수 \n",
        "  - 해당 변수, 값의 타입(type)을 알고자 할떄 사용"
      ]
    },
    {
      "cell_type": "code",
      "metadata": {
        "id": "tLcO7rf94l80",
        "outputId": "e08dfcce-8945-40e1-c986-500748a584a4",
        "colab": {
          "base_uri": "https://localhost:8080/"
        }
      },
      "source": [
        "a = 100\n",
        "b = 11.4\n",
        "c = \"오늘은 비가 와요\"\n",
        "d = a>b\n",
        "\n",
        "print(type(a),a, type(b),b, type(c),c, type(d),d)"
      ],
      "execution_count": 3,
      "outputs": [
        {
          "output_type": "stream",
          "text": [
            "<class 'int'> 100 <class 'float'> 11.4 <class 'str'> 오늘은 비가 와요 <class 'bool'> True\n"
          ],
          "name": "stdout"
        }
      ]
    },
    {
      "cell_type": "markdown",
      "metadata": {
        "id": "ynra4kYIb8rl"
      },
      "source": [
        "## - 대입연사자\n",
        "- 오른쪽 수식이나 값을 계산한후 왼쪽에 명시된변수에 해당 값을대입\n",
        "- 변수는 해당 값을 가지게 된다.\n"
      ]
    },
    {
      "cell_type": "code",
      "metadata": {
        "id": "LzxXbMM4cX00"
      },
      "source": [
        "a = 10 #int\n",
        "b = 11.4 #float"
      ],
      "execution_count": null,
      "outputs": []
    },
    {
      "cell_type": "markdown",
      "metadata": {
        "id": "yX6h9Yln6Z0s"
      },
      "source": [
        "### **None**\n",
        "\n",
        "- 아무런 값을 갖지 않을떄 사용\n",
        "- 일반적으로 변수가 초기값을 갖지 않게 하기 위해 사용\n",
        "- NULL과 같은 의미"
      ]
    },
    {
      "cell_type": "code",
      "metadata": {
        "id": "5xnOuiXo7DEU",
        "outputId": "6b2c4736-9989-4c99-acfc-dcad3cca7a6d",
        "colab": {
          "base_uri": "https://localhost:8080/"
        }
      },
      "source": [
        "c = None\n",
        "print(c)"
      ],
      "execution_count": 4,
      "outputs": [
        {
          "output_type": "stream",
          "text": [
            "None\n"
          ],
          "name": "stdout"
        }
      ]
    },
    {
      "cell_type": "markdown",
      "metadata": {
        "id": "jYc2-Bpi7Z4i"
      },
      "source": [
        "## **비교연산자**\n",
        "\n",
        "- 프로그래밍에서 비교를 할경우 사용한다.\n",
        "- >,< (작다, 크다)\n",
        "- =>,=< (작거나 같다, 크거나 같다)\n",
        "- == (같다)\n",
        "- != (같지 않다)\n",
        "- 바교 연산자 결과는 Bool(참과 거짓)"
      ]
    },
    {
      "cell_type": "code",
      "metadata": {
        "id": "mgW1BDwG8Nza",
        "outputId": "ab2d69df-bee9-4b16-8635-79f71e16a281",
        "colab": {
          "base_uri": "https://localhost:8080/"
        }
      },
      "source": [
        "a =5\n",
        "b =4\n",
        "\n",
        "print(a>b) #True\n",
        "print(a<b) #False\n",
        "print(a>=b) #True\n",
        "print(a<=b) #False\n",
        "print(a==b) #False\n",
        "print(a!=b) #True"
      ],
      "execution_count": 5,
      "outputs": [
        {
          "output_type": "stream",
          "text": [
            "True\n",
            "False\n",
            "True\n",
            "False\n",
            "False\n",
            "True\n"
          ],
          "name": "stdout"
        }
      ]
    },
    {
      "cell_type": "markdown",
      "metadata": {
        "id": "hrrAHlSxBP7u"
      },
      "source": [
        "## **기본연산자**\n",
        "\n"
      ]
    },
    {
      "cell_type": "code",
      "metadata": {
        "id": "Pwj_zNvBBcDu",
        "outputId": "17cdcdc1-1e36-453a-9d78-7ec1cb5fe26a",
        "colab": {
          "base_uri": "https://localhost:8080/"
        }
      },
      "source": [
        "print(a+b) #a=5, b-4\n",
        "print(a-b)\n",
        "print(a*b)\n",
        "print(a/b)\n",
        "print(a%b)\n",
        "print(a**b) #5의 4제곱"
      ],
      "execution_count": 7,
      "outputs": [
        {
          "output_type": "stream",
          "text": [
            "9\n",
            "1\n",
            "20\n",
            "1.25\n",
            "1\n",
            "625\n"
          ],
          "name": "stdout"
        }
      ]
    },
    {
      "cell_type": "markdown",
      "metadata": {
        "id": "wwCXCen1CGgu"
      },
      "source": [
        "## **연산자 우선순위**\n",
        "- 기본적으로 수학의 연산자와 동일\n",
        "- 강제로 연산을 먼저하기 위해서는 ()를 사용"
      ]
    },
    {
      "cell_type": "code",
      "metadata": {
        "id": "AdYxgpz4CQ5u",
        "outputId": "aaee254c-23c4-49a2-8c45-703bf3e24b5c",
        "colab": {
          "base_uri": "https://localhost:8080/"
        }
      },
      "source": [
        "print(a+b*2)#a=5, b=4\n",
        "print((a+b)*2)\n",
        "print(2*a**3)"
      ],
      "execution_count": 8,
      "outputs": [
        {
          "output_type": "stream",
          "text": [
            "13\n",
            "18\n",
            "250\n"
          ],
          "name": "stdout"
        }
      ]
    },
    {
      "cell_type": "markdown",
      "metadata": {
        "id": "Unss2eFbcsCj"
      },
      "source": [
        "## **주석**\n",
        "- 코드에서 #으로 시작하는 뒷부분\n",
        "- python에서는 소스코드를 실행할 때 #을 만나면 무시\n",
        "-개발자(사람)이 보기 위한 용도로 사용\n"
      ]
    },
    {
      "cell_type": "code",
      "metadata": {
        "id": "zlWiV9OodCXU"
      },
      "source": [
        "#this line is very important\n",
        "# so don't delete those line\n",
        "\n",
        "math = 76"
      ],
      "execution_count": null,
      "outputs": []
    },
    {
      "cell_type": "markdown",
      "metadata": {
        "id": "UV-QCikSd6IV"
      },
      "source": [
        "## **변수 값 확인법**\n",
        "- print() 함수 사용\n",
        "- 코드에 마지막에 변수 값을 위치시킨 후 실행\n"
      ]
    },
    {
      "cell_type": "code",
      "metadata": {
        "colab": {
          "base_uri": "https://localhost:8080/"
        },
        "id": "JWzOhKehefBb",
        "outputId": "21ce3a48-c6b1-4551-defa-2fbdd2ef3372"
      },
      "source": [
        "a = 10\n",
        "b= 11.4\n",
        "a\n",
        "b\n",
        "print(a)\n",
        "print(a,b)\n",
        "b"
      ],
      "execution_count": null,
      "outputs": [
        {
          "output_type": "stream",
          "text": [
            "10\n",
            "10 11.4\n"
          ],
          "name": "stdout"
        },
        {
          "output_type": "execute_result",
          "data": {
            "text/plain": [
              "11.4"
            ]
          },
          "metadata": {},
          "execution_count": 7
        }
      ]
    },
    {
      "cell_type": "markdown",
      "metadata": {
        "id": "hoqa9dTUgXuG"
      },
      "source": [
        "## **print 함수**\n",
        "- 함수란 특정 기능을 반복적으로 호출하여 사용가능한 코드 블럭\n",
        "- ,로 여러 변수를 한줄에 출력\n",
        "- 기본적으로 한칸 띄어쓰기 후 출력"
      ]
    },
    {
      "cell_type": "code",
      "metadata": {
        "colab": {
          "base_uri": "https://localhost:8080/"
        },
        "id": "hwd6Lp7SglDF",
        "outputId": "075102f0-1b5c-49ed-e2aa-1bd68d0b0d8f"
      },
      "source": [
        "print(a, b)\n",
        "print( a, 10 , 200, b)\n",
        "print(\"짜스\")"
      ],
      "execution_count": null,
      "outputs": [
        {
          "output_type": "stream",
          "text": [
            "10 11.4\n",
            "10 10 200 11.4\n",
            "짜스\n"
          ],
          "name": "stdout"
        }
      ]
    },
    {
      "cell_type": "markdown",
      "metadata": {
        "id": "uNHarhHUhFs9"
      },
      "source": [
        "**print 함수 설정**\n",
        "- sep(구분자) : 각 변수 사이에서 구분해주는 역할\n",
        "- end : 마지막에 출력할 문자열"
      ]
    },
    {
      "cell_type": "code",
      "metadata": {
        "id": "tfQkH2WbhegN"
      },
      "source": [
        "print(a,b, 200, \"하영\", sep='#', end = 'll' )"
      ],
      "execution_count": null,
      "outputs": []
    }
  ]
}