{
  "nbformat": 4,
  "nbformat_minor": 0,
  "metadata": {
    "colab": {
      "name": "함수형프로그래맹.ipynb",
      "provenance": [],
      "authorship_tag": "ABX9TyPm/oFQIEs4cwAqHiICUqq5",
      "include_colab_link": true
    },
    "kernelspec": {
      "name": "python3",
      "display_name": "Python 3"
    },
    "language_info": {
      "name": "python"
    }
  },
  "cells": [
    {
      "cell_type": "markdown",
      "metadata": {
        "id": "view-in-github",
        "colab_type": "text"
      },
      "source": [
        "<a href=\"https://colab.research.google.com/github/kmj1243/21-2-a-/blob/main/%ED%95%A8%EC%88%98%ED%98%95%ED%94%84%EB%A1%9C%EA%B7%B8%EB%9E%98%EB%A7%B9.ipynb\" target=\"_parent\"><img src=\"https://colab.research.google.com/assets/colab-badge.svg\" alt=\"Open In Colab\"/></a>"
      ]
    },
    {
      "cell_type": "markdown",
      "metadata": {
        "id": "B3o-DDK0GFVo"
      },
      "source": [
        "## 일급객체\n",
        "\n",
        "- OOP(Object Oriented Programming)\n",
        "에서 사용되는 개념 중 하나\n",
        "\n",
        "- 변수나 데이터 구조에 넣을 수 있어야 한다.\n",
        "\n",
        "- 매개변수에 전달할 수 있어야 한다.\n",
        "\n",
        "- 반환값으로 사용할 수 있어야 한다.\n"
      ]
    },
    {
      "cell_type": "markdown",
      "metadata": {
        "id": "JXHmEQFDGiVM"
      },
      "source": [
        "## 일급함수(first class function)\n",
        "- 함수를 다른 변수와 동일하게 다루는 언어는 일급 함수를 가졌다고 표현\n",
        "\n",
        "- 험수를 다른 함수에 매개변수로 제공하거나, 함수가 함수를 반환할 수 있으면, 변수에도 할당할 수 있다\n",
        "\n",
        "- 파이썬의 함수는 일급 함수\n"
      ]
    },
    {
      "cell_type": "markdown",
      "metadata": {
        "id": "CAh3KR4dHGdw"
      },
      "source": [
        "### 1. 함수를 변수나 자료구조에 저장할 수 있다.\n",
        "- 변수에 할당 예제"
      ]
    },
    {
      "cell_type": "code",
      "metadata": {
        "id": "hEzRzop7F4DJ"
      },
      "source": [
        "def func(a,b):\n",
        "  return a + b"
      ],
      "execution_count": null,
      "outputs": []
    },
    {
      "cell_type": "code",
      "metadata": {
        "id": "si5w7lcrHd5f"
      },
      "source": [
        "k = func #  k 라는 변수에 함수 func를 할당"
      ],
      "execution_count": null,
      "outputs": []
    },
    {
      "cell_type": "code",
      "metadata": {
        "colab": {
          "base_uri": "https://localhost:8080/"
        },
        "id": "ED9S7tb8HqKo",
        "outputId": "95c5134e-4366-4785-efcb-7fdc8f8624e8"
      },
      "source": [
        "type(func)"
      ],
      "execution_count": null,
      "outputs": [
        {
          "output_type": "execute_result",
          "data": {
            "text/plain": [
              "function"
            ]
          },
          "metadata": {},
          "execution_count": 4
        }
      ]
    },
    {
      "cell_type": "code",
      "metadata": {
        "colab": {
          "base_uri": "https://localhost:8080/"
        },
        "id": "2I12Sm18Hi4Q",
        "outputId": "5936dd9f-d8a9-4c3f-bf73-f5630ae01767"
      },
      "source": [
        "type(k)"
      ],
      "execution_count": null,
      "outputs": [
        {
          "output_type": "execute_result",
          "data": {
            "text/plain": [
              "function"
            ]
          },
          "metadata": {},
          "execution_count": 5
        }
      ]
    },
    {
      "cell_type": "code",
      "metadata": {
        "colab": {
          "base_uri": "https://localhost:8080/"
        },
        "id": "9UkVkunUHkk3",
        "outputId": "0012f42d-4628-4c10-96b9-f1ac5899e9cf"
      },
      "source": [
        "func is k"
      ],
      "execution_count": null,
      "outputs": [
        {
          "output_type": "execute_result",
          "data": {
            "text/plain": [
              "True"
            ]
          },
          "metadata": {},
          "execution_count": 6
        }
      ]
    },
    {
      "cell_type": "code",
      "metadata": {
        "colab": {
          "base_uri": "https://localhost:8080/"
        },
        "id": "G5KrKPd_H3en",
        "outputId": "35aec7b8-f5a6-4ab3-a0c7-65880d965b26"
      },
      "source": [
        "func == k"
      ],
      "execution_count": null,
      "outputs": [
        {
          "output_type": "execute_result",
          "data": {
            "text/plain": [
              "True"
            ]
          },
          "metadata": {},
          "execution_count": 7
        }
      ]
    },
    {
      "cell_type": "code",
      "metadata": {
        "colab": {
          "base_uri": "https://localhost:8080/"
        },
        "id": "ONzteCUHH5DG",
        "outputId": "1f549f97-e885-49af-9476-ae2b42acf168"
      },
      "source": [
        "id(func), id(k)"
      ],
      "execution_count": null,
      "outputs": [
        {
          "output_type": "execute_result",
          "data": {
            "text/plain": [
              "(139628397767280, 139628397767280)"
            ]
          },
          "metadata": {},
          "execution_count": 8
        }
      ]
    },
    {
      "cell_type": "code",
      "metadata": {
        "colab": {
          "base_uri": "https://localhost:8080/"
        },
        "id": "uMhRw03mIazg",
        "outputId": "09317d02-41a6-4d06-f29c-3e7bda69f6a8"
      },
      "source": [
        "func(1,2)"
      ],
      "execution_count": null,
      "outputs": [
        {
          "output_type": "execute_result",
          "data": {
            "text/plain": [
              "3"
            ]
          },
          "metadata": {},
          "execution_count": 9
        }
      ]
    },
    {
      "cell_type": "code",
      "metadata": {
        "colab": {
          "base_uri": "https://localhost:8080/"
        },
        "id": "PD3bTbC2IeBw",
        "outputId": "4d7e2a20-df24-4c48-9510-62a1ff282692"
      },
      "source": [
        "k(1,2)"
      ],
      "execution_count": null,
      "outputs": [
        {
          "output_type": "execute_result",
          "data": {
            "text/plain": [
              "3"
            ]
          },
          "metadata": {},
          "execution_count": 10
        }
      ]
    },
    {
      "cell_type": "markdown",
      "metadata": {
        "id": "bxEYXtFcIhFf"
      },
      "source": [
        "- 자료구조에 할당(리스트)"
      ]
    },
    {
      "cell_type": "code",
      "metadata": {
        "id": "U6wasxJjIkwR"
      },
      "source": [
        "def add(a,b):\n",
        "  return a + b\n",
        "def minus(a,b):\n",
        "  return a - b"
      ],
      "execution_count": null,
      "outputs": []
    },
    {
      "cell_type": "code",
      "metadata": {
        "id": "lmLzUNrZIrOY"
      },
      "source": [
        "calc = (add,minus)"
      ],
      "execution_count": null,
      "outputs": []
    },
    {
      "cell_type": "code",
      "metadata": {
        "colab": {
          "base_uri": "https://localhost:8080/"
        },
        "id": "H56UalqhIuJO",
        "outputId": "86549961-5d7d-49db-8a9e-4da70e1a13e4"
      },
      "source": [
        "for i in calc:\n",
        "  print(i)"
      ],
      "execution_count": null,
      "outputs": [
        {
          "output_type": "stream",
          "name": "stdout",
          "text": [
            "<function add at 0x7efdbcc487a0>\n",
            "<function minus at 0x7efdbcccf560>\n"
          ]
        }
      ]
    },
    {
      "cell_type": "code",
      "metadata": {
        "colab": {
          "base_uri": "https://localhost:8080/"
        },
        "id": "geecsXqvJKm3",
        "outputId": "09d00f81-b014-44cc-9d4f-dfd7c94584b4"
      },
      "source": [
        "for i in calc:\n",
        "  print(i(10,5))"
      ],
      "execution_count": null,
      "outputs": [
        {
          "output_type": "stream",
          "name": "stdout",
          "text": [
            "15\n",
            "5\n"
          ]
        }
      ]
    },
    {
      "cell_type": "markdown",
      "metadata": {
        "id": "wR_zMWEMKmei"
      },
      "source": [
        "- 자료 구조에 할당(딕셔너리)"
      ]
    },
    {
      "cell_type": "code",
      "metadata": {
        "id": "WlGe3aiZKAtY"
      },
      "source": [
        "def add(a,b):\n",
        "  return a + b\n",
        "def minus(a,b):\n",
        "  return a - b"
      ],
      "execution_count": null,
      "outputs": []
    },
    {
      "cell_type": "code",
      "metadata": {
        "id": "C6tMfLTaKwlA"
      },
      "source": [
        "calc = {\n",
        "    'add':add,\n",
        "    'minus':minus\n",
        "\n",
        "}"
      ],
      "execution_count": null,
      "outputs": []
    },
    {
      "cell_type": "code",
      "metadata": {
        "colab": {
          "base_uri": "https://localhost:8080/"
        },
        "id": "iw91uvkFK6ig",
        "outputId": "3e24fe3c-62e8-49d0-b643-755954367057"
      },
      "source": [
        "type(calc['add']), type(calc['minus'])"
      ],
      "execution_count": null,
      "outputs": [
        {
          "output_type": "execute_result",
          "data": {
            "text/plain": [
              "(function, function)"
            ]
          },
          "metadata": {},
          "execution_count": 18
        }
      ]
    },
    {
      "cell_type": "code",
      "metadata": {
        "colab": {
          "base_uri": "https://localhost:8080/"
        },
        "id": "xkPTq90TLCRH",
        "outputId": "bd84d401-6b82-4338-8dc7-13f73fc2b8ad"
      },
      "source": [
        "num1 = calc['add'](10,5)\n",
        "num1"
      ],
      "execution_count": null,
      "outputs": [
        {
          "output_type": "execute_result",
          "data": {
            "text/plain": [
              "15"
            ]
          },
          "metadata": {},
          "execution_count": 20
        }
      ]
    },
    {
      "cell_type": "code",
      "metadata": {
        "colab": {
          "base_uri": "https://localhost:8080/"
        },
        "id": "ncRptMqkLL4h",
        "outputId": "ddcbf043-a953-49ad-de74-7755fcef6c75"
      },
      "source": [
        "num2 = calc['minus'](10,5)\n",
        "num2"
      ],
      "execution_count": null,
      "outputs": [
        {
          "output_type": "execute_result",
          "data": {
            "text/plain": [
              "5"
            ]
          },
          "metadata": {},
          "execution_count": 21
        }
      ]
    },
    {
      "cell_type": "code",
      "metadata": {
        "colab": {
          "base_uri": "https://localhost:8080/"
        },
        "id": "NsoLjPvILSiB",
        "outputId": "28a87ec0-c43d-42bd-adcd-e951f823b0bc"
      },
      "source": [
        "for i in calc:\n",
        "  print(i , type(i))"
      ],
      "execution_count": null,
      "outputs": [
        {
          "output_type": "stream",
          "name": "stdout",
          "text": [
            "add <class 'str'>\n",
            "minus <class 'str'>\n"
          ]
        }
      ]
    },
    {
      "cell_type": "markdown",
      "metadata": {
        "id": "2Mjqe2D_QDuB"
      },
      "source": [
        "## 수행괴제 : 위의 for문을 수정해서 함수를 실행되게 하시오"
      ]
    },
    {
      "cell_type": "code",
      "metadata": {
        "colab": {
          "base_uri": "https://localhost:8080/"
        },
        "id": "vyHw2EwvRIir",
        "outputId": "a2794159-bda2-4b63-ed5b-d8df3a76ae7f"
      },
      "source": [
        "calc.keys(), calc.values(), calc.items()"
      ],
      "execution_count": null,
      "outputs": [
        {
          "output_type": "execute_result",
          "data": {
            "text/plain": [
              "(dict_keys(['add', 'minus']),\n",
              " dict_values([<function add at 0x7efdbcc8de60>, <function minus at 0x7efdbcc8d8c0>]),\n",
              " dict_items([('add', <function add at 0x7efdbcc8de60>), ('minus', <function minus at 0x7efdbcc8d8c0>)]))"
            ]
          },
          "metadata": {},
          "execution_count": 26
        }
      ]
    },
    {
      "cell_type": "code",
      "metadata": {
        "colab": {
          "base_uri": "https://localhost:8080/",
          "height": 181
        },
        "id": "Hy6WMnfnQCPu",
        "outputId": "0a4d2944-14df-4f79-b2b0-642be2d3a545"
      },
      "source": [
        "for i in calc:\n",
        "  print(i(10,5))"
      ],
      "execution_count": null,
      "outputs": [
        {
          "output_type": "error",
          "ename": "TypeError",
          "evalue": "ignored",
          "traceback": [
            "\u001b[0;31m---------------------------------------------------------------------------\u001b[0m",
            "\u001b[0;31mTypeError\u001b[0m                                 Traceback (most recent call last)",
            "\u001b[0;32m<ipython-input-27-1a6f60af5d1a>\u001b[0m in \u001b[0;36m<module>\u001b[0;34m()\u001b[0m\n\u001b[1;32m      1\u001b[0m \u001b[0;32mfor\u001b[0m \u001b[0mi\u001b[0m \u001b[0;32min\u001b[0m \u001b[0mcalc\u001b[0m\u001b[0;34m:\u001b[0m\u001b[0;34m\u001b[0m\u001b[0;34m\u001b[0m\u001b[0m\n\u001b[0;32m----> 2\u001b[0;31m   \u001b[0mprint\u001b[0m\u001b[0;34m(\u001b[0m\u001b[0mi\u001b[0m\u001b[0;34m(\u001b[0m\u001b[0;36m10\u001b[0m\u001b[0;34m,\u001b[0m\u001b[0;36m5\u001b[0m\u001b[0;34m)\u001b[0m\u001b[0;34m)\u001b[0m\u001b[0;34m\u001b[0m\u001b[0;34m\u001b[0m\u001b[0m\n\u001b[0m",
            "\u001b[0;31mTypeError\u001b[0m: 'str' object is not callable"
          ]
        }
      ]
    },
    {
      "cell_type": "markdown",
      "metadata": {
        "id": "yhr26w6WRr-n"
      },
      "source": [
        "- 함수를 인자로 사용(매개 변수로 함수를 전달"
      ]
    },
    {
      "cell_type": "code",
      "metadata": {
        "id": "QGj-3EPYRQgK"
      },
      "source": [
        "def add(a,b):\n",
        "  return a + b\n",
        "def add_func(func, a,b):\n",
        "  print(func(a,b))"
      ],
      "execution_count": null,
      "outputs": []
    },
    {
      "cell_type": "code",
      "metadata": {
        "colab": {
          "base_uri": "https://localhost:8080/"
        },
        "id": "cDqsbkyAR9co",
        "outputId": "b981ae06-b3ca-4d81-de08-1d0765a477dd"
      },
      "source": [
        "add_func(add, 1,2)"
      ],
      "execution_count": null,
      "outputs": [
        {
          "output_type": "stream",
          "name": "stdout",
          "text": [
            "3\n"
          ]
        }
      ]
    },
    {
      "cell_type": "markdown",
      "metadata": {
        "id": "rOdJRnKUTVOL"
      },
      "source": [
        "### 컴프리헨션\n"
      ]
    },
    {
      "cell_type": "code",
      "metadata": {
        "id": "xp6wiG43Tpws"
      },
      "source": [
        "numbers = []\n",
        "for n in range(1, 10+1):\n",
        "  numbers.append(n)"
      ],
      "execution_count": null,
      "outputs": []
    },
    {
      "cell_type": "code",
      "metadata": {
        "colab": {
          "base_uri": "https://localhost:8080/"
        },
        "id": "aam_pd2ZT2Wb",
        "outputId": "4d6208e6-a1de-41aa-d38b-d7609ddf5981"
      },
      "source": [
        "numbers"
      ],
      "execution_count": null,
      "outputs": [
        {
          "output_type": "execute_result",
          "data": {
            "text/plain": [
              "[1, 2, 3, 4, 5, 6, 7, 8, 9, 10]"
            ]
          },
          "metadata": {},
          "execution_count": 33
        }
      ]
    },
    {
      "cell_type": "code",
      "metadata": {
        "colab": {
          "base_uri": "https://localhost:8080/"
        },
        "id": "1p543vNrT4zu",
        "outputId": "c5523f7f-d5b7-4754-f3d4-d9ed39486d99"
      },
      "source": [
        "[ x for x in range(1,10+1) if x % 2 == 0]"
      ],
      "execution_count": null,
      "outputs": [
        {
          "output_type": "execute_result",
          "data": {
            "text/plain": [
              "[2, 4, 6, 8, 10]"
            ]
          },
          "metadata": {},
          "execution_count": 36
        }
      ]
    },
    {
      "cell_type": "code",
      "metadata": {
        "id": "ZZpaf98aSBVQ"
      },
      "source": [
        "def square(x):\n",
        "  return x * x\n",
        "def cuve(x):\n",
        "  return x * x * x\n",
        "def my_func(func, arfs_list):\n",
        "  result = [func(i) for i in args_list]\n",
        "  return result"
      ],
      "execution_count": null,
      "outputs": []
    },
    {
      "cell_type": "code",
      "metadata": {
        "colab": {
          "base_uri": "https://localhost:8080/"
        },
        "id": "hcI1ifwGTT6i",
        "outputId": "f89dc316-795c-4884-f87e-3b8791443d82"
      },
      "source": [
        "[ x for x in range(1,10+1) if x % 2 == 1]"
      ],
      "execution_count": null,
      "outputs": [
        {
          "output_type": "execute_result",
          "data": {
            "text/plain": [
              "[1, 3, 5, 7, 9]"
            ]
          },
          "metadata": {},
          "execution_count": 35
        }
      ]
    },
    {
      "cell_type": "code",
      "metadata": {
        "colab": {
          "base_uri": "https://localhost:8080/"
        },
        "id": "jGoQmCaGUZF4",
        "outputId": "b32f4691-0059-4b8f-9de6-5d8ca9fab16d"
      },
      "source": [
        "[ (x,y) for x in ['쌉밥','치킨','피자'] for y in ['사과','아이스크림','커피']]"
      ],
      "execution_count": null,
      "outputs": [
        {
          "output_type": "execute_result",
          "data": {
            "text/plain": [
              "[('쌉밥', '사과'),\n",
              " ('쌉밥', '아이스크림'),\n",
              " ('쌉밥', '커피'),\n",
              " ('치킨', '사과'),\n",
              " ('치킨', '아이스크림'),\n",
              " ('치킨', '커피'),\n",
              " ('피자', '사과'),\n",
              " ('피자', '아이스크림'),\n",
              " ('피자', '커피')]"
            ]
          },
          "metadata": {},
          "execution_count": 40
        }
      ]
    },
    {
      "cell_type": "code",
      "metadata": {
        "colab": {
          "base_uri": "https://localhost:8080/",
          "height": 300
        },
        "id": "DpPTHQZcU7sa",
        "outputId": "d7e77b86-b58f-430c-bbcb-b4bbae887ff6"
      },
      "source": [
        "l = [1,2,3,4,5]\n",
        "answer_1 = my_func(square, l)\n",
        "answer_1"
      ],
      "execution_count": null,
      "outputs": [
        {
          "output_type": "error",
          "ename": "NameError",
          "evalue": "ignored",
          "traceback": [
            "\u001b[0;31m---------------------------------------------------------------------------\u001b[0m",
            "\u001b[0;31mNameError\u001b[0m                                 Traceback (most recent call last)",
            "\u001b[0;32m<ipython-input-45-7c19c2c504e5>\u001b[0m in \u001b[0;36m<module>\u001b[0;34m()\u001b[0m\n\u001b[1;32m      1\u001b[0m \u001b[0ml\u001b[0m \u001b[0;34m=\u001b[0m \u001b[0;34m[\u001b[0m\u001b[0;36m1\u001b[0m\u001b[0;34m,\u001b[0m\u001b[0;36m2\u001b[0m\u001b[0;34m,\u001b[0m\u001b[0;36m3\u001b[0m\u001b[0;34m,\u001b[0m\u001b[0;36m4\u001b[0m\u001b[0;34m,\u001b[0m\u001b[0;36m5\u001b[0m\u001b[0;34m]\u001b[0m\u001b[0;34m\u001b[0m\u001b[0;34m\u001b[0m\u001b[0m\n\u001b[0;32m----> 2\u001b[0;31m \u001b[0manswer_1\u001b[0m \u001b[0;34m=\u001b[0m \u001b[0mmy_func\u001b[0m\u001b[0;34m(\u001b[0m\u001b[0msquare\u001b[0m\u001b[0;34m,\u001b[0m \u001b[0ml\u001b[0m\u001b[0;34m)\u001b[0m\u001b[0;34m\u001b[0m\u001b[0;34m\u001b[0m\u001b[0m\n\u001b[0m\u001b[1;32m      3\u001b[0m \u001b[0manswer_1\u001b[0m\u001b[0;34m\u001b[0m\u001b[0;34m\u001b[0m\u001b[0m\n",
            "\u001b[0;32m<ipython-input-31-f3646b16f4c5>\u001b[0m in \u001b[0;36mmy_func\u001b[0;34m(func, arfs_list)\u001b[0m\n\u001b[1;32m      4\u001b[0m   \u001b[0;32mreturn\u001b[0m \u001b[0mx\u001b[0m \u001b[0;34m*\u001b[0m \u001b[0mx\u001b[0m \u001b[0;34m*\u001b[0m \u001b[0mx\u001b[0m\u001b[0;34m\u001b[0m\u001b[0;34m\u001b[0m\u001b[0m\n\u001b[1;32m      5\u001b[0m \u001b[0;32mdef\u001b[0m \u001b[0mmy_func\u001b[0m\u001b[0;34m(\u001b[0m\u001b[0mfunc\u001b[0m\u001b[0;34m,\u001b[0m \u001b[0marfs_list\u001b[0m\u001b[0;34m)\u001b[0m\u001b[0;34m:\u001b[0m\u001b[0;34m\u001b[0m\u001b[0;34m\u001b[0m\u001b[0m\n\u001b[0;32m----> 6\u001b[0;31m   \u001b[0mresult\u001b[0m \u001b[0;34m=\u001b[0m \u001b[0;34m[\u001b[0m\u001b[0mfunc\u001b[0m\u001b[0;34m(\u001b[0m\u001b[0mi\u001b[0m\u001b[0;34m)\u001b[0m \u001b[0;32mfor\u001b[0m \u001b[0mi\u001b[0m \u001b[0;32min\u001b[0m \u001b[0margs_list\u001b[0m\u001b[0;34m]\u001b[0m\u001b[0;34m\u001b[0m\u001b[0;34m\u001b[0m\u001b[0m\n\u001b[0m\u001b[1;32m      7\u001b[0m   \u001b[0;32mreturn\u001b[0m \u001b[0mresult\u001b[0m\u001b[0;34m\u001b[0m\u001b[0;34m\u001b[0m\u001b[0m\n",
            "\u001b[0;31mNameError\u001b[0m: name 'args_list' is not defined"
          ]
        }
      ]
    },
    {
      "cell_type": "code",
      "metadata": {
        "colab": {
          "base_uri": "https://localhost:8080/",
          "height": 300
        },
        "id": "cm1aLBwHVkiQ",
        "outputId": "3f18d389-2c55-45c2-d59b-0df4264a2658"
      },
      "source": [
        "l = [1,2,3,4,5]\n",
        "answer_2 = my_func(square, l)\n",
        "answer_2"
      ],
      "execution_count": null,
      "outputs": [
        {
          "output_type": "error",
          "ename": "NameError",
          "evalue": "ignored",
          "traceback": [
            "\u001b[0;31m---------------------------------------------------------------------------\u001b[0m",
            "\u001b[0;31mNameError\u001b[0m                                 Traceback (most recent call last)",
            "\u001b[0;32m<ipython-input-46-a3fb97b7dcb5>\u001b[0m in \u001b[0;36m<module>\u001b[0;34m()\u001b[0m\n\u001b[1;32m      1\u001b[0m \u001b[0ml\u001b[0m \u001b[0;34m=\u001b[0m \u001b[0;34m[\u001b[0m\u001b[0;36m1\u001b[0m\u001b[0;34m,\u001b[0m\u001b[0;36m2\u001b[0m\u001b[0;34m,\u001b[0m\u001b[0;36m3\u001b[0m\u001b[0;34m,\u001b[0m\u001b[0;36m4\u001b[0m\u001b[0;34m,\u001b[0m\u001b[0;36m5\u001b[0m\u001b[0;34m]\u001b[0m\u001b[0;34m\u001b[0m\u001b[0;34m\u001b[0m\u001b[0m\n\u001b[0;32m----> 2\u001b[0;31m \u001b[0manswer_2\u001b[0m \u001b[0;34m=\u001b[0m \u001b[0mmy_func\u001b[0m\u001b[0;34m(\u001b[0m\u001b[0msquare\u001b[0m\u001b[0;34m,\u001b[0m \u001b[0ml\u001b[0m\u001b[0;34m)\u001b[0m\u001b[0;34m\u001b[0m\u001b[0;34m\u001b[0m\u001b[0m\n\u001b[0m\u001b[1;32m      3\u001b[0m \u001b[0manswer_2\u001b[0m\u001b[0;34m\u001b[0m\u001b[0;34m\u001b[0m\u001b[0m\n",
            "\u001b[0;32m<ipython-input-31-f3646b16f4c5>\u001b[0m in \u001b[0;36mmy_func\u001b[0;34m(func, arfs_list)\u001b[0m\n\u001b[1;32m      4\u001b[0m   \u001b[0;32mreturn\u001b[0m \u001b[0mx\u001b[0m \u001b[0;34m*\u001b[0m \u001b[0mx\u001b[0m \u001b[0;34m*\u001b[0m \u001b[0mx\u001b[0m\u001b[0;34m\u001b[0m\u001b[0;34m\u001b[0m\u001b[0m\n\u001b[1;32m      5\u001b[0m \u001b[0;32mdef\u001b[0m \u001b[0mmy_func\u001b[0m\u001b[0;34m(\u001b[0m\u001b[0mfunc\u001b[0m\u001b[0;34m,\u001b[0m \u001b[0marfs_list\u001b[0m\u001b[0;34m)\u001b[0m\u001b[0;34m:\u001b[0m\u001b[0;34m\u001b[0m\u001b[0;34m\u001b[0m\u001b[0m\n\u001b[0;32m----> 6\u001b[0;31m   \u001b[0mresult\u001b[0m \u001b[0;34m=\u001b[0m \u001b[0;34m[\u001b[0m\u001b[0mfunc\u001b[0m\u001b[0;34m(\u001b[0m\u001b[0mi\u001b[0m\u001b[0;34m)\u001b[0m \u001b[0;32mfor\u001b[0m \u001b[0mi\u001b[0m \u001b[0;32min\u001b[0m \u001b[0margs_list\u001b[0m\u001b[0;34m]\u001b[0m\u001b[0;34m\u001b[0m\u001b[0;34m\u001b[0m\u001b[0m\n\u001b[0m\u001b[1;32m      7\u001b[0m   \u001b[0;32mreturn\u001b[0m \u001b[0mresult\u001b[0m\u001b[0;34m\u001b[0m\u001b[0;34m\u001b[0m\u001b[0m\n",
            "\u001b[0;31mNameError\u001b[0m: name 'args_list' is not defined"
          ]
        }
      ]
    },
    {
      "cell_type": "markdown",
      "metadata": {
        "id": "6HLUxhGPWquZ"
      },
      "source": [
        "- 함수를 리턴값으로 사용"
      ]
    },
    {
      "cell_type": "code",
      "metadata": {
        "id": "PruPBKvTWeh6"
      },
      "source": [
        "def func(name):\n",
        "  def printer(): # 클로저\n",
        "    print(f'Hello {name}')\n",
        "  return printer"
      ],
      "execution_count": null,
      "outputs": []
    },
    {
      "cell_type": "code",
      "metadata": {
        "colab": {
          "base_uri": "https://localhost:8080/"
        },
        "id": "QmvoR49sW8bE",
        "outputId": "8ae31eb1-54f8-4ff3-e8b6-2eb482cd2722"
      },
      "source": [
        "func"
      ],
      "execution_count": null,
      "outputs": [
        {
          "output_type": "execute_result",
          "data": {
            "text/plain": [
              "<function __main__.func>"
            ]
          },
          "metadata": {},
          "execution_count": 48
        }
      ]
    },
    {
      "cell_type": "code",
      "metadata": {
        "colab": {
          "base_uri": "https://localhost:8080/"
        },
        "id": "tn3JN5mkW9e1",
        "outputId": "26aeb0fb-237c-4a24-82a7-c4c5143d0e98"
      },
      "source": [
        "f = func('minjae')\n",
        "f()"
      ],
      "execution_count": null,
      "outputs": [
        {
          "output_type": "stream",
          "name": "stdout",
          "text": [
            "Hello minjae\n"
          ]
        }
      ]
    },
    {
      "cell_type": "code",
      "metadata": {
        "id": "ue7H_shDXCtC"
      },
      "source": [
        "del func"
      ],
      "execution_count": null,
      "outputs": []
    },
    {
      "cell_type": "code",
      "metadata": {
        "colab": {
          "base_uri": "https://localhost:8080/"
        },
        "id": "TbzIV4QfXeBp",
        "outputId": "2daf14b0-f3a7-4acc-d350-ac510d512db2"
      },
      "source": [
        "try:\n",
        "  print(func)\n",
        "except NameError:\n",
        "  print('NameError: func는 없다')"
      ],
      "execution_count": null,
      "outputs": [
        {
          "output_type": "stream",
          "name": "stdout",
          "text": [
            "NameError: func는 없다\n"
          ]
        }
      ]
    },
    {
      "cell_type": "code",
      "metadata": {
        "colab": {
          "base_uri": "https://localhost:8080/",
          "height": 164
        },
        "id": "8_nmyPBGXoDf",
        "outputId": "9a852274-375f-4bef-9bf4-8445dcf3af54"
      },
      "source": [
        "func()"
      ],
      "execution_count": null,
      "outputs": [
        {
          "output_type": "error",
          "ename": "NameError",
          "evalue": "ignored",
          "traceback": [
            "\u001b[0;31m---------------------------------------------------------------------------\u001b[0m",
            "\u001b[0;31mNameError\u001b[0m                                 Traceback (most recent call last)",
            "\u001b[0;32m<ipython-input-54-bd1982955a12>\u001b[0m in \u001b[0;36m<module>\u001b[0;34m()\u001b[0m\n\u001b[0;32m----> 1\u001b[0;31m \u001b[0mfunc\u001b[0m\u001b[0;34m(\u001b[0m\u001b[0;34m)\u001b[0m\u001b[0;34m\u001b[0m\u001b[0;34m\u001b[0m\u001b[0m\n\u001b[0m",
            "\u001b[0;31mNameError\u001b[0m: name 'func' is not defined"
          ]
        }
      ]
    },
    {
      "cell_type": "code",
      "metadata": {
        "colab": {
          "base_uri": "https://localhost:8080/"
        },
        "id": "KA5ZhsVsXvBK",
        "outputId": "97efe12a-ea31-4be1-80da-5ec7ac2c8b60"
      },
      "source": [
        "f()"
      ],
      "execution_count": null,
      "outputs": [
        {
          "output_type": "stream",
          "name": "stdout",
          "text": [
            "Hello minjae\n"
          ]
        }
      ]
    },
    {
      "cell_type": "code",
      "metadata": {
        "id": "w17-T2X6X84z"
      },
      "source": [
        ""
      ],
      "execution_count": null,
      "outputs": []
    }
  ]
}