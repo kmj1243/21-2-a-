{
  "nbformat": 4,
  "nbformat_minor": 0,
  "metadata": {
    "colab": {
      "name": "Untitled0.ipynb",
      "provenance": [],
      "collapsed_sections": [],
      "authorship_tag": "ABX9TyPViWR4lXJ+EPFeuc4Hu8E5",
      "include_colab_link": true
    },
    "kernelspec": {
      "name": "python3",
      "display_name": "Python 3"
    },
    "language_info": {
      "name": "python"
    }
  },
  "cells": [
    {
      "cell_type": "markdown",
      "metadata": {
        "id": "view-in-github",
        "colab_type": "text"
      },
      "source": [
        "<a href=\"https://colab.research.google.com/github/kmj1243/21-2-a-/blob/main/ch2_%EB%AC%B8%EC%9E%90%EC%97%B4.ipynb\" target=\"_parent\"><img src=\"https://colab.research.google.com/assets/colab-badge.svg\" alt=\"Open In Colab\"/></a>"
      ]
    },
    {
      "cell_type": "markdown",
      "metadata": {
        "id": "gMII7R6cEIvM"
      },
      "source": [
        "## **학습목표**\n",
        "\n",
        "문자열(str)타입을 이해하기"
      ]
    },
    {
      "cell_type": "markdown",
      "metadata": {
        "id": "RynNaDy3Ec1M"
      },
      "source": [
        "## **문자열(string)**\n",
        "- 여러 개의 문자를 순서대로 나열한 것\n",
        "- 문자열은 '(작은따음표)' 혹은\"(큰 따음표)\" 사이에 문자를 넣어서 생성\n",
        "- 물자열 자체에 \",' 가 있는 경우,반대의 기호를 생성"
      ]
    },
    {
      "cell_type": "code",
      "metadata": {
        "colab": {
          "base_uri": "https://localhost:8080/"
        },
        "id": "AMI2wDKVEwqk",
        "outputId": "24575679-7677-4c93-d8c3-e18dfcfe09f2"
      },
      "source": [
        "a =  \"Hello world!\"\n",
        "b = ' \"Hello\" world! '\n",
        "\n",
        "print(a)\n",
        "print(b)"
      ],
      "execution_count": 5,
      "outputs": [
        {
          "output_type": "stream",
          "text": [
            "Hello world!\n",
            " \"Hello\" world! \n"
          ],
          "name": "stdout"
        }
      ]
    },
    {
      "cell_type": "markdown",
      "metadata": {
        "id": "W_tOG4H8F4Rs"
      },
      "source": [
        "## **이스케이프(escaoe) 문자**\n",
        "\n",
        "- 문자열 내의 문자의 의미를 달리하여 특정한 효과\n",
        "- Enter, tab\n",
        "\n",
        "- `\\n`:Enter, 새로운 줄(다음줄)'\n",
        "- `\\t`:tap'\n"
      ]
    },
    {
      "cell_type": "code",
      "metadata": {
        "id": "kJTo6H06HxBa"
      },
      "source": [
        "print(\"안녕하세요. \\n제 이름은 \\t김민재입니다. \\n작없은 \\t선생님 입니다.\")"
      ],
      "execution_count": null,
      "outputs": []
    },
    {
      "cell_type": "markdown",
      "metadata": {
        "id": "CB-UMa76HUWT"
      },
      "source": [
        "## **문자열의 인덱스(index) 및 추출**\n",
        "\n",
        "- 문자열의 각 문자는 순서가 있음 : `인덱스`\n",
        "- 인덱스 표현은?[]\n",
        "- 첫번째 문자부터 마지막까지 차례대로 순서를 가짐\n",
        "- 시작은 0 (1 X)\n",
        "\n"
      ]
    },
    {
      "cell_type": "code",
      "metadata": {
        "colab": {
          "base_uri": "https://localhost:8080/"
        },
        "id": "fortGbTDGM_K",
        "outputId": "b62921cb-3904-4034-fb28-5067ed8861a9"
      },
      "source": [
        "a = \"Hello World!\"# 번호는 0번~11번까지, 길이는 12\n",
        "print(a[0], a[4], a[5])\n"
      ],
      "execution_count": 9,
      "outputs": [
        {
          "output_type": "stream",
          "text": [
            "H\n"
          ],
          "name": "stdout"
        }
      ]
    },
    {
      "cell_type": "markdown",
      "metadata": {
        "id": "59lrjqprIZYM"
      },
      "source": [
        "## **-1 인덱스**\n",
        "- 다른 언어와 달리 python은 음수의 인덱스를 지원\n",
        "- -1이 가장 마지막 인덱스. -2는 마지막에서 두번째 인덱스"
      ]
    },
    {
      "cell_type": "code",
      "metadata": {
        "id": "Gh8ej6oHIlep"
      },
      "source": [
        "#a = \"Hello World!\"\n",
        "\n",
        "print(a[-1], a[-3], a[-12]) #a[12]부터, a[-13]부터는 범위를 벗어나서 에러!"
      ],
      "execution_count": null,
      "outputs": []
    },
    {
      "cell_type": "markdown",
      "metadata": {
        "id": "1l21ounZKGop"
      },
      "source": [
        "## **문자열 슬라이싱(slicing)**\n",
        "- 인덱스로 추출할 때는 한글자만 추출한다면, 슬라이싱은 부분 문자열을 추출한다.\n",
        "- [시작:끝]과 같이 명시하여 해당 부분 문자열 추출\n",
        "- 시작이나 끝이 생략되어 있다면, 0부터 혹은 끝까지로 추출"
      ]
    },
    {
      "cell_type": "code",
      "metadata": {
        "colab": {
          "base_uri": "https://localhost:8080/"
        },
        "id": "LLM3-L3pKZTd",
        "outputId": "195bfbfd-019e-407c-e5fb-fb5301b0f3ca"
      },
      "source": [
        "#a = \"Hello World!\"\n",
        "\n",
        "print(a[3:10])\n",
        "print(a[:10])\n",
        "print(a[3:])\n",
        "print(a[:])"
      ],
      "execution_count": 12,
      "outputs": [
        {
          "output_type": "stream",
          "text": [
            "lo Worl\n",
            "Hello Worl\n",
            "lo World!\n",
            "Hello World!\n"
          ],
          "name": "stdout"
        }
      ]
    },
    {
      "cell_type": "markdown",
      "metadata": {
        "id": "1jRGlkQDS4p8"
      },
      "source": [
        "## **format**\n",
        "- 문자열내의 특정한 값을 변수로부터 초기화하여 동적으로 문자열을 생성"
      ]
    },
    {
      "cell_type": "code",
      "metadata": {
        "colab": {
          "base_uri": "https://localhost:8080/",
          "height": 53
        },
        "id": "iTVVZi2WS_J7",
        "outputId": "52f4a2e3-4fa7-4772-ad44-eaed467dc1c5"
      },
      "source": [
        "temp = 27\n",
        "per = 80\n",
        "\n",
        "a='현재 기온은 {}도 이고, 비올 확률은 {}%입니다.'.format(temp,per)\n",
        "print(a)\n",
        "\n",
        "칠 = 3\n",
        "#b=\n",
        "f'현재 프로그래밍 시간은 {칠}교시다.'"
      ],
      "execution_count": 29,
      "outputs": [
        {
          "output_type": "stream",
          "text": [
            "현재 기온은 27도 이고, 비올 확률은 80%입니다.\n"
          ],
          "name": "stdout"
        },
        {
          "output_type": "execute_result",
          "data": {
            "application/vnd.google.colaboratory.intrinsic+json": {
              "type": "string"
            },
            "text/plain": [
              "'현재 프로그래밍 시간은 3교시다.'"
            ]
          },
          "metadata": {},
          "execution_count": 29
        }
      ]
    },
    {
      "cell_type": "markdown",
      "metadata": {
        "id": "LWayx47PVKlL"
      },
      "source": [
        "## **split**\n",
        "\n",
        "- 문자열은 특정한 문자로 구분하여 치환"
      ]
    },
    {
      "cell_type": "code",
      "metadata": {
        "id": "BkAiAKQQVjLx"
      },
      "source": [
        "a = 'what a wonderful day. nice weaher!'\n",
        "a.split('w')"
      ],
      "execution_count": null,
      "outputs": []
    },
    {
      "cell_type": "markdown",
      "metadata": {
        "id": "_8ph66KDLL84"
      },
      "source": [
        "## **문자열 내장 함수**\n",
        "- 문자열에 여러가지 기능을 제공"
      ]
    },
    {
      "cell_type": "code",
      "metadata": {
        "colab": {
          "base_uri": "https://localhost:8080/"
        },
        "id": "qT-bp6_SLP-2",
        "outputId": "c573dbd1-d644-48d9-c687-4c5f2bd26d96"
      },
      "source": [
        "#a = \"Hello World!\" \\\n",
        "print(a.upper())\n",
        "print(a.lower())\n",
        "print(a.replace('H','J'))\n",
        "print(a.replace('ello', 'i'))\n",
        "print(len(a))\n",
        "print(a.count('l'))\n",
        "\n",
        "print(a.find('W'))\n",
        "print(a.index('W'))\n",
        "\n",
        "b=\"!\".join(a)\n",
        "print(b)"
      ],
      "execution_count": 21,
      "outputs": [
        {
          "output_type": "stream",
          "text": [
            "HELLO WORLD!\n",
            "hello world!\n",
            "Jello World!\n",
            "Hi World!\n",
            "12\n",
            "3\n",
            "6\n",
            "6\n",
            "H!e!l!l!o! !W!o!r!l!d!!\n"
          ],
          "name": "stdout"
        }
      ]
    },
    {
      "cell_type": "code",
      "metadata": {
        "id": "LQEIWfKVQpqa"
      },
      "source": [
        ""
      ],
      "execution_count": null,
      "outputs": []
    }
  ]
}