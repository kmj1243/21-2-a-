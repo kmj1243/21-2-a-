{
  "nbformat": 4,
  "nbformat_minor": 0,
  "metadata": {
    "colab": {
      "name": "데이터타입(dict.set).ipynb",
      "provenance": [],
      "authorship_tag": "ABX9TyOqRwRtm2qUNVJxvHJWD0V2",
      "include_colab_link": true
    },
    "kernelspec": {
      "name": "python3",
      "display_name": "Python 3"
    },
    "language_info": {
      "name": "python"
    }
  },
  "cells": [
    {
      "cell_type": "markdown",
      "metadata": {
        "id": "view-in-github",
        "colab_type": "text"
      },
      "source": [
        "<a href=\"https://colab.research.google.com/github/kmj1243/21-2-a-/blob/main/%EB%8D%B0%EC%9D%B4%ED%84%B0%ED%83%80%EC%9E%85(dict_set).ipynb\" target=\"_parent\"><img src=\"https://colab.research.google.com/assets/colab-badge.svg\" alt=\"Open In Colab\"/></a>"
      ]
    },
    {
      "cell_type": "markdown",
      "metadata": {
        "id": "m-p0DwUlyjg-"
      },
      "source": [
        "학습목표\n",
        "- dictionary,set에 대해 이해하기"
      ]
    },
    {
      "cell_type": "markdown",
      "metadata": {
        "id": "QlzRBH57yrEF"
      },
      "source": [
        "dictionary\n",
        "- 키와 값을 갖는 데이터 구조\n",
        "- 키는 내부적으로 hash값으로 저장\n",
        "- 순서를 따지지 않음."
      ]
    },
    {
      "cell_type": "code",
      "metadata": {
        "colab": {
          "base_uri": "https://localhost:8080/"
        },
        "id": "zICvZySdzN4V",
        "outputId": "a81db79b-9236-4038-b96f-6d9c028d32ae"
      },
      "source": [
        "a = {'korea': 'seoul',\n",
        "      'Canada': 'Ottawa',\n",
        "      'USA': 'Washington D.C'}\n",
        "b = {0:1, 1:6, 7:9, 8:10}\n",
        "\n",
        "print(a['korea' ])\n",
        "print(b[0])\n",
        "#print(b[3])"
      ],
      "execution_count": 3,
      "outputs": [
        {
          "output_type": "stream",
          "name": "stdout",
          "text": [
            "seoul\n",
            "1\n"
          ]
        }
      ]
    },
    {
      "cell_type": "markdown",
      "metadata": {
        "id": "aPACQm1w0W8v"
      },
      "source": [
        "### **항목 추가 및 변경**\n",
        "\n",
        "- 기존에 키가 존재하면, 새로운 값으로 업데이트\n",
        "- 기존에 키가 존재하지 않으면 새로운 키 값으로 생성"
      ]
    },
    {
      "cell_type": "code",
      "metadata": {
        "colab": {
          "base_uri": "https://localhost:8080/"
        },
        "id": "0jkZXulD0u_2",
        "outputId": "b5058531-22a2-4460-9173-ecee8beae4c1"
      },
      "source": [
        "a['Japan'] = 'Tokyo'\n",
        "a['Japan'] = 'Osaka'\n",
        "a['China'] = 'Beijing'\n",
        "\n",
        "print(a)"
      ],
      "execution_count": 4,
      "outputs": [
        {
          "output_type": "stream",
          "name": "stdout",
          "text": [
            "{'korea': 'seoul', 'Canada': 'Ottawa', 'USA': 'Washington D.C', 'Japan': 'Osaka', 'China': 'Beijing'}\n"
          ]
        }
      ]
    },
    {
      "cell_type": "markdown",
      "metadata": {
        "id": "4KiGYUX71OqW"
      },
      "source": [
        "- update()\n",
        " - 두 딕셔너리를 병함\n",
        " - 겹치는 키가 있다면, 전달되는 값이 업데이트한다."
      ]
    },
    {
      "cell_type": "code",
      "metadata": {
        "colab": {
          "base_uri": "https://localhost:8080/"
        },
        "id": "KMaic6mV1xEl",
        "outputId": "b587baff-0e6e-4fb9-b203-7135cebb2bc8"
      },
      "source": [
        "a = {'a':'apple', 'b':'bus', 'c':'car'}\n",
        "b = {'a':'ant', 'b':'dog', 'e':'egg'}\n",
        "a.update(b)\n",
        "print(a)"
      ],
      "execution_count": 5,
      "outputs": [
        {
          "output_type": "stream",
          "name": "stdout",
          "text": [
            "{'a': 'ant', 'b': 'dog', 'c': 'car', 'e': 'egg'}\n"
          ]
        }
      ]
    },
    {
      "cell_type": "markdown",
      "metadata": {
        "id": "O-ZF8iWM2KhA"
      },
      "source": [
        "### **key 삭제**\n",
        "- det 키워드\n",
        "- pop 함수 이용"
      ]
    },
    {
      "cell_type": "code",
      "metadata": {
        "colab": {
          "base_uri": "https://localhost:8080/"
        },
        "id": "z4x1p7Mu2dC2",
        "outputId": "413b2b9f-f39c-45ce-bc0f-53fa529b0c52"
      },
      "source": [
        "a = {'a':1,'b':2, 'c':3}\n",
        "print(a)\n",
        "\n",
        "d = a.pop('b')\n",
        "print(a)\n",
        "print(d)\n",
        "\n",
        "del a['a']\n",
        "print(a)"
      ],
      "execution_count": 9,
      "outputs": [
        {
          "output_type": "stream",
          "name": "stdout",
          "text": [
            "{'a': 1, 'b': 2, 'c': 3}\n",
            "{'a': 1, 'c': 3}\n",
            "2\n",
            "{'c': 3}\n"
          ]
        }
      ]
    },
    {
      "cell_type": "markdown",
      "metadata": {
        "id": "MPssQPd23PHI"
      },
      "source": [
        "### **clear()**\n",
        "- 딕셔너리 값을 모두 초기화"
      ]
    },
    {
      "cell_type": "code",
      "metadata": {
        "colab": {
          "base_uri": "https://localhost:8080/"
        },
        "id": "UL1d38a13VQW",
        "outputId": "9785415a-5c1c-4e21-834b-3c1d8a0af3cd"
      },
      "source": [
        "a['add']=3\n",
        "print(a)\n",
        "a.clear()\n",
        "print(a)"
      ],
      "execution_count": 10,
      "outputs": [
        {
          "output_type": "stream",
          "name": "stdout",
          "text": [
            "{'c': 3, 'add': 3}\n",
            "{}\n"
          ]
        }
      ]
    },
    {
      "cell_type": "markdown",
      "metadata": {
        "id": "qJjjJqOD86VZ"
      },
      "source": [
        "### **in**\n",
        "- key값 존재 확인"
      ]
    },
    {
      "cell_type": "code",
      "metadata": {
        "colab": {
          "base_uri": "https://localhost:8080/"
        },
        "id": "9zB9qr9L9CUQ",
        "outputId": "468a9b20-526f-4991-92eb-43ddd4415a23"
      },
      "source": [
        "a = {'a':1,'b':2, 'c':3}\n",
        "print(2 in a)\n",
        "print('a' in a)"
      ],
      "execution_count": 11,
      "outputs": [
        {
          "output_type": "stream",
          "name": "stdout",
          "text": [
            "False\n",
            "True\n"
          ]
        }
      ]
    },
    {
      "cell_type": "markdown",
      "metadata": {
        "id": "lgxfRai_9mbB"
      },
      "source": [
        "- dick[key]로 접근,키가 없는경우에는 에러\n",
        "- .get() 험수로 접근,키가 없는 경우에도 프로그램 실행->None 반환"
      ]
    },
    {
      "cell_type": "code",
      "metadata": {
        "colab": {
          "base_uri": "https://localhost:8080/"
        },
        "id": "RL0EgLlw9RkJ",
        "outputId": "293806b2-ade2-42de-e844-b2e28696845e"
      },
      "source": [
        "a = {'a':1,'b':2, 'c':3}\n",
        "#print)a['d']\n",
        "print(a.get('d'))"
      ],
      "execution_count": 12,
      "outputs": [
        {
          "output_type": "stream",
          "name": "stdout",
          "text": [
            "None\n"
          ]
        }
      ]
    },
    {
      "cell_type": "markdown",
      "metadata": {
        "id": "nQ4PrQbh-p6v"
      },
      "source": [
        "#### **모든 keys, values 접근**\n",
        "- keys() - 키만 반환\n",
        "- values() - 값만 반환\n",
        "- items() - 키,값의 튜플을 반환"
      ]
    },
    {
      "cell_type": "code",
      "metadata": {
        "colab": {
          "base_uri": "https://localhost:8080/"
        },
        "id": "VLirY-F3_OXB",
        "outputId": "8dcae6d7-d54b-4b2a-c768-188c83ab31f1"
      },
      "source": [
        "a = {'a':1,'b':2, 'c':3}\n",
        "print(a)\n",
        "print(a.keys())\n",
        "print(a.values())\n",
        "print(a.items())"
      ],
      "execution_count": 16,
      "outputs": [
        {
          "output_type": "stream",
          "name": "stdout",
          "text": [
            "{'a': 1, 'b': 2, 'c': 3}\n",
            "dict_keys(['a', 'b', 'c'])\n",
            "dict_values([1, 2, 3])\n",
            "dict_items([('a', 1), ('b', 2), ('c', 3)])\n"
          ]
        }
      ]
    },
    {
      "cell_type": "markdown",
      "metadata": {
        "id": "azs2ZRzhACSD"
      },
      "source": [
        "### **Set**\n",
        "- dictionary에서 key만 활용한 데이터 구조{}\n",
        "- 중복이 허용되지 않는 구조"
      ]
    },
    {
      "cell_type": "code",
      "metadata": {
        "colab": {
          "base_uri": "https://localhost:8080/"
        },
        "id": "CUBqQfheAK9Z",
        "outputId": "db8bccc1-9d2b-41ea-b315-a8602910fbeb"
      },
      "source": [
        "a = {1,1,1,2,5,2,2,2,6,2}\n",
        "print(a)"
      ],
      "execution_count": 18,
      "outputs": [
        {
          "output_type": "stream",
          "name": "stdout",
          "text": [
            "{1, 2, 5, 6}\n"
          ]
        }
      ]
    },
    {
      "cell_type": "code",
      "metadata": {
        "colab": {
          "base_uri": "https://localhost:8080/"
        },
        "id": "GXqia3iIA-Hh",
        "outputId": "3f78f52a-a6bc-41fc-97ba-68b485500ad5"
      },
      "source": [
        "a = {1,1,1,2,5,2,2,2,6,2}\n",
        "print(a)\n",
        "\n",
        "b = set(a)\n",
        "print(b)"
      ],
      "execution_count": 19,
      "outputs": [
        {
          "output_type": "stream",
          "name": "stdout",
          "text": [
            "{1, 2, 5, 6}\n",
            "{1, 2, 5, 6}\n"
          ]
        }
      ]
    },
    {
      "cell_type": "code",
      "metadata": {
        "colab": {
          "base_uri": "https://localhost:8080/"
        },
        "id": "ZL2_AgK0Bp96",
        "outputId": "a539c852-fb92-4f0f-bdb0-8ce28a74c80c"
      },
      "source": [
        "a = {1,2,3}\n",
        "b = {4,2,3}\n",
        "\n",
        "print(a.union(b)) #합집함\n",
        "print(a.intersection(b)) #교집합\n",
        "print(a.difference(b)) 차집합"
      ],
      "execution_count": 21,
      "outputs": [
        {
          "output_type": "stream",
          "name": "stdout",
          "text": [
            "{1, 2, 3}\n",
            "{1, 2, 3}\n"
          ]
        }
      ]
    }
  ]
}