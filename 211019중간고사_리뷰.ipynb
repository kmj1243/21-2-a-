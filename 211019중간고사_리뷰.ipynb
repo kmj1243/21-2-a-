{
  "nbformat": 4,
  "nbformat_minor": 0,
  "metadata": {
    "colab": {
      "name": "211019중간고사 리뷰.ipynb",
      "provenance": [],
      "authorship_tag": "ABX9TyNslp+GPncj9kQ+4NBaDNQm",
      "include_colab_link": true
    },
    "kernelspec": {
      "name": "python3",
      "display_name": "Python 3"
    },
    "language_info": {
      "name": "python"
    }
  },
  "cells": [
    {
      "cell_type": "markdown",
      "metadata": {
        "id": "view-in-github",
        "colab_type": "text"
      },
      "source": [
        "<a href=\"https://colab.research.google.com/github/kmj1243/21-2-a-/blob/main/211019%EC%A4%91%EA%B0%84%EA%B3%A0%EC%82%AC_%EB%A6%AC%EB%B7%B0.ipynb\" target=\"_parent\"><img src=\"https://colab.research.google.com/assets/colab-badge.svg\" alt=\"Open In Colab\"/></a>"
      ]
    },
    {
      "cell_type": "code",
      "metadata": {
        "id": "iQ50yciQ4BHN"
      },
      "source": [
        "#1. 파이썬 변수로 사용할 수 없는 것은?\n",
        "_num = 1\n",
        "num = 2\n",
        "num1 = 3\n",
        "#2num = 4\n",
        "#변수를 선언할 때 맨 앞에 숫자는 올수 없다.\n",
        "n_um = 5"
      ],
      "execution_count": null,
      "outputs": []
    },
    {
      "cell_type": "code",
      "metadata": {
        "colab": {
          "base_uri": "https://localhost:8080/"
        },
        "id": "zAWpTPmG29-U",
        "outputId": "4d1a651f-a350-424d-8d50-7f7f12f7952b"
      },
      "source": [
        "#2. 각 변수에 저장된 최종 값은?\n",
        "sum = 0\n",
        "n1 = 10\n",
        "n1 = n1+10\n",
        "n2 = 20\n",
        "sum = n1+n2\n",
        "print(n1, n2, sum)"
      ],
      "execution_count": null,
      "outputs": [
        {
          "output_type": "stream",
          "name": "stdout",
          "text": [
            "20 20 40\n"
          ]
        }
      ]
    },
    {
      "cell_type": "code",
      "metadata": {
        "colab": {
          "base_uri": "https://localhost:8080/"
        },
        "id": "7sXMTHeG4AVb",
        "outputId": "4bf634a8-6527-4763-e882-0553f9b1136e"
      },
      "source": [
        "#3. 적절한 연산자 찾기\n",
        "print(17//4)\n",
        "print(17/4)\n",
        "print(17%4)"
      ],
      "execution_count": null,
      "outputs": [
        {
          "output_type": "stream",
          "name": "stdout",
          "text": [
            "4\n",
            "4.25\n",
            "1\n"
          ]
        }
      ]
    },
    {
      "cell_type": "code",
      "metadata": {
        "colab": {
          "base_uri": "https://localhost:8080/"
        },
        "id": "Sq9jznag4nP0",
        "outputId": "28cef5b1-0b5e-4e97-f06f-9b708a420c5f"
      },
      "source": [
        "#4. 데이터 타입 찾기\n",
        "age = 17\n",
        "st =\"나이\"\n",
        "tu = (17,'나이')\n",
        "print(type(age))\n",
        "print(type(st))\n",
        "print(type(tu))\n",
        "print(type(type(age)))"
      ],
      "execution_count": null,
      "outputs": [
        {
          "output_type": "stream",
          "name": "stdout",
          "text": [
            "<class 'int'>\n",
            "<class 'str'>\n",
            "<class 'tuple'>\n",
            "<class 'type'>\n"
          ]
        }
      ]
    },
    {
      "cell_type": "code",
      "metadata": {
        "colab": {
          "base_uri": "https://localhost:8080/"
        },
        "id": "bfekIHbl_SWu",
        "outputId": "655ee389-40aa-4ba0-fc5f-37079d28daf4"
      },
      "source": [
        "#5. 문자열 인뎃이\n",
        "s = \"Hello Hanyang!\"\n",
        "print(s[5], s[-5])"
      ],
      "execution_count": null,
      "outputs": [
        {
          "output_type": "stream",
          "name": "stdout",
          "text": [
            "  y\n"
          ]
        }
      ]
    },
    {
      "cell_type": "code",
      "metadata": {
        "colab": {
          "base_uri": "https://localhost:8080/"
        },
        "id": "y2bo_Fpn__Zl",
        "outputId": "0ef95c6e-9c0f-4feb-a43e-b907ada30f36"
      },
      "source": [
        "#6. upper()함수와 문자열 슬라이싱\n",
        "s = \"Hello Hanyang!\"\n",
        "print(s)\n",
        "s = s.upper()\n",
        "print(s)\n",
        "print(s[:8])"
      ],
      "execution_count": null,
      "outputs": [
        {
          "output_type": "stream",
          "name": "stdout",
          "text": [
            "Hello Hanyang!\n",
            "HELLO HANYANG!\n",
            "HELLO HA\n"
          ]
        }
      ]
    },
    {
      "cell_type": "code",
      "metadata": {
        "id": "4BvCsKtxBJAG"
      },
      "source": [
        "#7. 여러 데이터를 다루는 파이썬의 자료점\n",
        "# 리스트, 튜플, 딕셔너리, 셋"
      ],
      "execution_count": null,
      "outputs": []
    },
    {
      "cell_type": "code",
      "metadata": {
        "colab": {
          "base_uri": "https://localhost:8080/"
        },
        "id": "NX8TxWDHBRGf",
        "outputId": "c231cf03-7fc0-4a1b-8efe-55e544a34caa"
      },
      "source": [
        "#8~9. 리스트\n",
        "a = ['a', 1 , 'python', (1,2), '2', [1,2]]\n",
        "print(a[3])\n",
        "print(1 in a, 2 in a)\n",
        "print(2=='2')"
      ],
      "execution_count": null,
      "outputs": [
        {
          "output_type": "stream",
          "name": "stdout",
          "text": [
            "(1, 2)\n",
            "True False\n",
            "False\n"
          ]
        }
      ]
    },
    {
      "cell_type": "code",
      "metadata": {
        "colab": {
          "base_uri": "https://localhost:8080/"
        },
        "id": "xGeiVpHNB6uG",
        "outputId": "1e0b7bc9-6048-4c7c-81a8-194f57c1ace6"
      },
      "source": [
        "nums = list(range(4))\n",
        "print(nums)\n",
        "nums.insert(3,100)\n",
        "print(nums)"
      ],
      "execution_count": null,
      "outputs": [
        {
          "output_type": "stream",
          "name": "stdout",
          "text": [
            "[0, 1, 2, 3]\n",
            "[0, 1, 2, 100, 3]\n"
          ]
        }
      ]
    },
    {
      "cell_type": "code",
      "metadata": {
        "colab": {
          "base_uri": "https://localhost:8080/"
        },
        "id": "a_6djDY-Cj9a",
        "outputId": "c0c40aaf-82f5-4cba-ea6d-8eb4e95c9d14"
      },
      "source": [
        "#11. 튜플의 개념\n",
        "a = 100\n",
        "b = 200\n",
        "a,b = b,a\n",
        "print(a, b)"
      ],
      "execution_count": null,
      "outputs": [
        {
          "output_type": "stream",
          "name": "stdout",
          "text": [
            "200 100\n"
          ]
        }
      ]
    },
    {
      "cell_type": "code",
      "metadata": {
        "colab": {
          "base_uri": "https://localhost:8080/"
        },
        "id": "24C5oI14Dve-",
        "outputId": "5b00efd6-268f-42a9-e655-114db80dbaa3"
      },
      "source": [
        "#12. 딕셔너리\n",
        "a = {'han':1, 1:2, '1':3}\n",
        "a[2] = 'yang'\n",
        "print(a)"
      ],
      "execution_count": null,
      "outputs": [
        {
          "output_type": "stream",
          "name": "stdout",
          "text": [
            "{'han': 1, 1: 2, '1': 3, 2: 'yang'}\n"
          ]
        }
      ]
    },
    {
      "cell_type": "code",
      "metadata": {
        "colab": {
          "base_uri": "https://localhost:8080/"
        },
        "id": "OcyeQy3kEXVm",
        "outputId": "3e60d966-b330-4294-d17c-dfd112d42774"
      },
      "source": [
        "#13.셋\n",
        "a = set([1,1,1,1,1,1,1,1,1,2,3])\n",
        "print(a)\n",
        "b = set('hello')\n",
        "print(b)"
      ],
      "execution_count": null,
      "outputs": [
        {
          "output_type": "stream",
          "name": "stdout",
          "text": [
            "{1, 2, 3}\n",
            "{'h', 'o', 'l', 'e'}\n"
          ]
        }
      ]
    },
    {
      "cell_type": "code",
      "metadata": {
        "colab": {
          "base_uri": "https://localhost:8080/"
        },
        "id": "eZHjyPpkFN_e",
        "outputId": "ceec1131-f519-4b00-bcc0-207c08432309"
      },
      "source": [
        "#14~15 \n",
        "room = [[0,0,1,0,9],\n",
        "        [1,0,1,0,1],\n",
        "        [0,1,1,1,9]]\n",
        "        \n",
        "mouse = room[0][2]\n",
        "\n",
        "if mouse == 1:\n",
        "  print(\"cheese\")\n",
        "elif mouse == 9:\n",
        "  print(\"trap\")\n",
        "else:\n",
        "  print(\"nothing\")"
      ],
      "execution_count": null,
      "outputs": [
        {
          "output_type": "stream",
          "name": "stdout",
          "text": [
            "cheese\n"
          ]
        }
      ]
    },
    {
      "cell_type": "code",
      "metadata": {
        "colab": {
          "base_uri": "https://localhost:8080/"
        },
        "id": "pCDfC0EWMJL1",
        "outputId": "95721730-2595-4b51-e7e0-ce243789a699"
      },
      "source": [
        "#16~17\n",
        "\n",
        "a = 0\n",
        "b = 0\n",
        "\n",
        "for i in range(3,9):\n",
        "  if i%2 == 0 and i%3 == 0:\n",
        "    continue\n",
        "  elif i%2 == 0:\n",
        "    a += 1\n",
        "  elif i%3 == 0:\n",
        "    b += 1\n",
        "print(a,b)"
      ],
      "execution_count": null,
      "outputs": [
        {
          "output_type": "stream",
          "name": "stdout",
          "text": [
            "2 1\n"
          ]
        }
      ]
    },
    {
      "cell_type": "code",
      "metadata": {
        "colab": {
          "base_uri": "https://localhost:8080/"
        },
        "id": "b0T-LHvoO0MN",
        "outputId": "b7b327fb-e7e3-43a2-8427-542ca54db6a5"
      },
      "source": [
        "#18~20\n",
        "print(\"===========민재나라치킨공주=============\")\n",
        "print(\"메뉴\")\n",
        "print(\" 1.햄버거(300원)2.피자(500원) 3.치킨(700원)\")\n",
        "print(\"========================================\")\n",
        "\n",
        "money = int(input(\"투입 금액: \"))\n",
        "menu = int(input(\"메뉴 번호: \"))\n",
        "\n",
        "if menu == 1:\n",
        "  money -= 300\n",
        "elif menu == 2:\n",
        "  money -= 500\n",
        "elif menu ==3:\n",
        "  money -= 700\n",
        "\n",
        "if money<0:\n",
        "  print(\"오류: 잔액이 부족합니다\")\n",
        "else:\n",
        "  won10000 = money//10000\n",
        "  won5000 = (money%10000)//5000\n",
        "  won1000 = ((money%10000)%5000)//1000\n",
        "  won500 = (((money%10000)%5000)%1000)//500\n",
        "  won100 = ((((money%10000)%5000)%1000)%500)//100\n",
        "\n",
        "  print(\"거스름돈:만원()개\",format(won10000))\n",
        "  print(\"거스름돈:오천원()개\",format(won5000))\n",
        "  print(\"거스름돈:천원()개\",format(won1000))\n",
        "  print(\"거스름돈:오백원()개\",format(won500))\n",
        "  print(\"거스름돈:백원()개\",format(won100))"
      ],
      "execution_count": 52,
      "outputs": [
        {
          "output_type": "stream",
          "name": "stdout",
          "text": [
            "===========민재나라치킨공주=============\n",
            "메뉴\n",
            " 1.햄버거(300원)2.피자(500원) 3.치킨(700원)\n",
            "========================================\n",
            "투입 금액: 50000\n",
            "메뉴 번호: 3\n",
            "거스름돈:만원()개 4\n",
            "거스름돈:오천원()개 1\n",
            "거스름돈:천원()개 4\n",
            "거스름돈:오백원()개 0\n",
            "거스름돈:백원()개 3\n"
          ]
        }
      ]
    },
    {
      "cell_type": "code",
      "metadata": {
        "id": "YeIMQZijTNMx"
      },
      "source": [
        ""
      ],
      "execution_count": null,
      "outputs": []
    },
    {
      "cell_type": "code",
      "metadata": {
        "id": "Jg37524lPaC3"
      },
      "source": [
        ""
      ],
      "execution_count": null,
      "outputs": []
    }
  ]
}