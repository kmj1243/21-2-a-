{
  "nbformat": 4,
  "nbformat_minor": 0,
  "metadata": {
    "colab": {
      "name": "0927_실습코드1.ipynb",
      "provenance": [],
      "collapsed_sections": [],
      "authorship_tag": "ABX9TyOlgXxA2bdhkCzBihzBGaDs",
      "include_colab_link": true
    },
    "kernelspec": {
      "name": "python3",
      "display_name": "Python 3"
    },
    "language_info": {
      "name": "python"
    }
  },
  "cells": [
    {
      "cell_type": "markdown",
      "metadata": {
        "id": "view-in-github",
        "colab_type": "text"
      },
      "source": [
        "<a href=\"https://colab.research.google.com/github/kmj1243/21-2-a-/blob/main/0927_%EC%8B%A4%EC%8A%B5%EC%BD%94%EB%93%9C1.ipynb\" target=\"_parent\"><img src=\"https://colab.research.google.com/assets/colab-badge.svg\" alt=\"Open In Colab\"/></a>"
      ]
    },
    {
      "cell_type": "code",
      "metadata": {
        "id": "c8SSJ7ztdbk2"
      },
      "source": [
        ""
      ],
      "execution_count": null,
      "outputs": []
    },
    {
      "cell_type": "code",
      "metadata": {
        "colab": {
          "base_uri": "https://localhost:8080/"
        },
        "id": "2vk1VEBkfQBk",
        "outputId": "a8bdda5a-1fa7-413d-fb67-6d64e4f115ba"
      },
      "source": [
        "#1. 두 중에 걸쳐'강한친구 대한육군'을 한 줄에 한 번씩 출력한다.\n",
        "print('강한친구 대한육군')\n",
        "print('강한친구 대한육군')"
      ],
      "execution_count": null,
      "outputs": [
        {
          "output_type": "stream",
          "name": "stdout",
          "text": [
            "강한친구 대한육군\n",
            "강한친구 대한육군\n"
          ]
        }
      ]
    },
    {
      "cell_type": "code",
      "metadata": {
        "colab": {
          "base_uri": "https://localhost:8080/"
        },
        "id": "ZQctQqGmj4TC",
        "outputId": "2c481ae4-1b24-4b7c-d78f-644cc076f2bc"
      },
      "source": [
        "a,b = input().split()\n",
        "\n",
        "a = int(a)\n",
        "b = int(b)\n",
        "\n",
        "print(a-b)"
      ],
      "execution_count": null,
      "outputs": [
        {
          "output_type": "stream",
          "name": "stdout",
          "text": [
            "10 5\n",
            "5\n"
          ]
        }
      ]
    },
    {
      "cell_type": "code",
      "metadata": {
        "id": "rZwaqUbZmk2d"
      },
      "source": [
        ""
      ],
      "execution_count": null,
      "outputs": []
    },
    {
      "cell_type": "code",
      "metadata": {
        "colab": {
          "base_uri": "https://localhost:8080/"
        },
        "id": "ngO-80twlMaS",
        "outputId": "d590e69a-80bb-4115-b95a-2fa725cd5295"
      },
      "source": [
        "a, b = input().split()\n",
        "\n",
        "a = int(a)\n",
        "b = int(b)\n",
        "\n",
        "print(a+b)\n",
        "print(a-b)\n",
        "print(a*b)\n",
        "print(a//b)\n",
        "print(a%b)"
      ],
      "execution_count": null,
      "outputs": [
        {
          "output_type": "stream",
          "name": "stdout",
          "text": [
            "7 3\n",
            "10\n",
            "4\n",
            "21\n",
            "2\n",
            "1\n"
          ]
        }
      ]
    },
    {
      "cell_type": "code",
      "metadata": {
        "colab": {
          "base_uri": "https://localhost:8080/"
        },
        "id": "qaddpB2sllmr",
        "outputId": "c6d71dfe-5546-4378-caa0-7b9f61b930c9"
      },
      "source": [
        "#4 (9498)시험 점수를 입력받아 90 ~ 100점은 A, 80 ~ 89점은 B, 70 ~ 79점은 C, 60 ~ 69점은 D, 나머지 점수는 F를 출력하는 프로그램을 작성하시오. if문\n",
        "score = input()\n",
        "score = int(score)\n",
        "\n",
        "if score>=90 :\n",
        "  print('A')\n",
        "elif score>=80 : \n",
        "  print('B')\n",
        "elif score>= 70 :\n",
        "  print('C')\n",
        "elif score>= 60 :\n",
        "  print('D')\n",
        "else :\n",
        "  print('F')"
      ],
      "execution_count": null,
      "outputs": [
        {
          "output_type": "stream",
          "name": "stdout",
          "text": [
            "12\n",
            "F\n"
          ]
        }
      ]
    },
    {
      "cell_type": "code",
      "metadata": {
        "colab": {
          "base_uri": "https://localhost:8080/"
        },
        "id": "HD-3DKhB6T9-",
        "outputId": "b9d7d415-44de-4674-f755-2749bed49e76"
      },
      "source": [
        "#5 (10950)두 정수 A와 B를 입력받은 다음, A+B를 출력하는 프로그램을 작성하시오.\n",
        "\n",
        "t = int(input())\n",
        "\n",
        "for i in range(t):\n",
        "  a,b = input().split()\n",
        "  a = int(a)\n",
        "  b = int(b)\n",
        "  print(a+b)"
      ],
      "execution_count": null,
      "outputs": [
        {
          "output_type": "stream",
          "name": "stdout",
          "text": [
            "5\n",
            "1 1\n",
            "2\n",
            "2 2\n",
            "4\n",
            "3 3\n",
            "6\n",
            "15 10\n",
            "25\n",
            "8 7\n",
            "15\n"
          ]
        }
      ]
    },
    {
      "cell_type": "code",
      "metadata": {
        "id": "sIoWlTxKCFxj"
      },
      "source": [
        ""
      ],
      "execution_count": null,
      "outputs": []
    },
    {
      "cell_type": "code",
      "metadata": {
        "id": "FDUC6d7PAphf"
      },
      "source": [
        ""
      ],
      "execution_count": null,
      "outputs": []
    }
  ]
}