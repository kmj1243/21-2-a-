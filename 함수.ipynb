{
  "nbformat": 4,
  "nbformat_minor": 0,
  "metadata": {
    "colab": {
      "name": "함수.ipynb",
      "provenance": [],
      "authorship_tag": "ABX9TyOxAunaDZ5N6xGvcVEsqtti",
      "include_colab_link": true
    },
    "kernelspec": {
      "name": "python3",
      "display_name": "Python 3"
    },
    "language_info": {
      "name": "python"
    }
  },
  "cells": [
    {
      "cell_type": "markdown",
      "metadata": {
        "id": "view-in-github",
        "colab_type": "text"
      },
      "source": [
        "<a href=\"https://colab.research.google.com/github/kmj1243/21-2-a-/blob/main/%ED%95%A8%EC%88%98.ipynb\" target=\"_parent\"><img src=\"https://colab.research.google.com/assets/colab-badge.svg\" alt=\"Open In Colab\"/></a>"
      ]
    },
    {
      "cell_type": "markdown",
      "metadata": {
        "id": "hmQKg8S9_869"
      },
      "source": [
        "### **학습 목표**\n",
        "1. 함수의 이해\n",
        "2. 함수 구현및 사용 숙지"
      ]
    },
    {
      "cell_type": "markdown",
      "metadata": {
        "id": "7Obhjzc1AOmO"
      },
      "source": [
        "# **함수?**\n",
        "- 예를 들어 range 함수\n",
        "- 함수는 주어진 입력(input)에 대해 어떤 기능을 \n",
        "수행해서 출력(output)을 전달하는 역할\n",
        "\n",
        "\n",
        ">range()  정수를 입력으로 전달하면 [0,정수]\n",
        "까지 이루어진 리스트를 생성하는 역할을 해준다.\n",
        "\n",
        "- 이 함수들은 python 내부에 정의(구현)되어 있다 '내장함수(built-in function)'"
      ]
    },
    {
      "cell_type": "code",
      "metadata": {
        "colab": {
          "base_uri": "https://localhost:8080/"
        },
        "id": "P4Ko4dNBBWot",
        "outputId": "4ba3306a-f233-4351-cbaf-881c976ed51c"
      },
      "source": [
        "#내장함수의 예\n",
        "a = [1,2,3,4,3,2,4,32,5]\n",
        "l = len(a)\n",
        "print(l)\n",
        "\n",
        "plus = sum(a)\n",
        "print(plus)"
      ],
      "execution_count": 3,
      "outputs": [
        {
          "output_type": "stream",
          "name": "stdout",
          "text": [
            "9\n",
            "56\n"
          ]
        }
      ]
    },
    {
      "cell_type": "markdown",
      "metadata": {
        "id": "yVbY4Pb_DLqF"
      },
      "source": [
        "### **함수의 정의**\n",
        "\n",
        "- def 라는 키워드 사용(definition)\n",
        "- (argument, PARAMETER) 매개변수: 함수에 입력으로 전달하는 값\n",
        "- 함수의 내용부분\n",
        "  - 함수를 호출한 후 원하는 기능 수행 후,완료된 값을 return으로 출력\n",
        "\n",
        "- 중요한 건 함수의 네이밍\n",
        "  - 어떤 기능을 하는 함수인지 이름으로 나타날수 있게 해야함\n",
        "\n",
        "a(x), student_name(o)\n"
      ]
    },
    {
      "cell_type": "code",
      "metadata": {
        "colab": {
          "base_uri": "https://localhost:8080/"
        },
        "id": "sjKKzVN1RNcc",
        "outputId": "b913ed93-6fa9-45f8-8b01-1c438e8bb931"
      },
      "source": [
        "def add(a,b):\n",
        "  n = a + b\n",
        "  return n\n",
        "\n",
        "def minus(a,b):\n",
        "  n = a - b\n",
        "  return n \n",
        "\n",
        "def mul(a,b):\n",
        "  n = a*b\n",
        "  return n\n",
        "\n",
        "x = add(100,200)\n",
        "y = minus(200,400)\n",
        "z = add(300,500)\n",
        "\n",
        "print(x,y,z)"
      ],
      "execution_count": 7,
      "outputs": [
        {
          "output_type": "stream",
          "name": "stdout",
          "text": [
            "300 -200 800\n"
          ]
        }
      ]
    },
    {
      "cell_type": "code",
      "metadata": {
        "id": "627iQNFuUKXC"
      },
      "source": [
        ""
      ],
      "execution_count": null,
      "outputs": []
    }
  ]
}