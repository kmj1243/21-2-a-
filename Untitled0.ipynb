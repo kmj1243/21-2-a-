{
  "nbformat": 4,
  "nbformat_minor": 0,
  "metadata": {
    "colab": {
      "name": "Untitled0.ipynb",
      "provenance": [],
      "collapsed_sections": [],
      "authorship_tag": "ABX9TyNeLnFb//qmimLRwwA3dmO5",
      "include_colab_link": true
    },
    "kernelspec": {
      "name": "python3",
      "display_name": "Python 3"
    },
    "language_info": {
      "name": "python"
    }
  },
  "cells": [
    {
      "cell_type": "markdown",
      "metadata": {
        "id": "view-in-github",
        "colab_type": "text"
      },
      "source": [
        "<a href=\"https://colab.research.google.com/github/kmj1243/21-2-a-/blob/main/Untitled0.ipynb\" target=\"_parent\"><img src=\"https://colab.research.google.com/assets/colab-badge.svg\" alt=\"Open In Colab\"/></a>"
      ]
    },
    {
      "cell_type": "markdown",
      "metadata": {
        "id": "S-VIvP0DbbS8"
      },
      "source": [
        "## **학습목표**\n",
        "1. python 언어에서 변수의 의미를 이해하기\n",
        "2. 기본 데이터 타입 선언하기\n",
        " - int, float, str, boat\n",
        " "
      ]
    },
    {
      "cell_type": "markdown",
      "metadata": {
        "id": "CiA9DHXCb1mU"
      },
      "source": [
        ""
      ]
    },
    {
      "cell_type": "markdown",
      "metadata": {
        "id": "ynra4kYIb8rl"
      },
      "source": [
        "## - 대입연사자\n",
        "- 오른쪽 수식이나 값을 계산한후 왼쪽에 명시된변수에 해당 값을대입\n",
        "- 변수는 해당 값을 가지게 된다.\n"
      ]
    },
    {
      "cell_type": "code",
      "metadata": {
        "id": "LzxXbMM4cX00"
      },
      "source": [
        "a = 10 #int\n",
        "b = 11.4 #float"
      ],
      "execution_count": null,
      "outputs": []
    },
    {
      "cell_type": "markdown",
      "metadata": {
        "id": "Unss2eFbcsCj"
      },
      "source": [
        "## **주석**\n",
        "- 코드에서 #으로 시작하는 뒷부분\n",
        "- python에서는 소스코드를 실행할 때 #을 만나면 무시\n",
        "-개발자(사람)이 보기 위한 용도로 사용\n"
      ]
    },
    {
      "cell_type": "code",
      "metadata": {
        "id": "zlWiV9OodCXU"
      },
      "source": [
        "#this line is very important\n",
        "# so don't delete those line\n",
        "\n",
        "math = 76"
      ],
      "execution_count": null,
      "outputs": []
    },
    {
      "cell_type": "markdown",
      "metadata": {
        "id": "UV-QCikSd6IV"
      },
      "source": [
        "## **변수 값 확인법**\n",
        "- print() 함수 사용\n",
        "- 코드에 마지막에 변수 값을 위치시킨 후 실행\n"
      ]
    },
    {
      "cell_type": "code",
      "metadata": {
        "colab": {
          "base_uri": "https://localhost:8080/"
        },
        "id": "JWzOhKehefBb",
        "outputId": "21ce3a48-c6b1-4551-defa-2fbdd2ef3372"
      },
      "source": [
        "a = 10\n",
        "b= 11.4\n",
        "a\n",
        "b\n",
        "print(a)\n",
        "print(a,b)\n",
        "b"
      ],
      "execution_count": null,
      "outputs": [
        {
          "output_type": "stream",
          "text": [
            "10\n",
            "10 11.4\n"
          ],
          "name": "stdout"
        },
        {
          "output_type": "execute_result",
          "data": {
            "text/plain": [
              "11.4"
            ]
          },
          "metadata": {},
          "execution_count": 7
        }
      ]
    },
    {
      "cell_type": "markdown",
      "metadata": {
        "id": "hoqa9dTUgXuG"
      },
      "source": [
        "## **print 함수**\n",
        "- 함수란 특정 기능을 반복적으로 호출하여 사용가능한 코드 블럭\n",
        "- ,로 여러 변수를 한줄에 출력\n",
        "- 기본적으로 한칸 띄어쓰기 후 출력"
      ]
    },
    {
      "cell_type": "code",
      "metadata": {
        "colab": {
          "base_uri": "https://localhost:8080/"
        },
        "id": "hwd6Lp7SglDF",
        "outputId": "075102f0-1b5c-49ed-e2aa-1bd68d0b0d8f"
      },
      "source": [
        "print(a, b)\n",
        "print( a, 10 , 200, b)\n",
        "print(\"짜스\")"
      ],
      "execution_count": null,
      "outputs": [
        {
          "output_type": "stream",
          "text": [
            "10 11.4\n",
            "10 10 200 11.4\n",
            "짜스\n"
          ],
          "name": "stdout"
        }
      ]
    },
    {
      "cell_type": "markdown",
      "metadata": {
        "id": "uNHarhHUhFs9"
      },
      "source": [
        "**print 함수 설정**\n",
        "- sep(구분자) : 각 변수 사이에서 구분해주는 역할\n",
        "- end : 마지막에 출력할 문자열"
      ]
    },
    {
      "cell_type": "code",
      "metadata": {
        "id": "tfQkH2WbhegN"
      },
      "source": [
        "print(a,b, 200, \"하영\", sep='#', end = 'll' )"
      ],
      "execution_count": null,
      "outputs": []
    }
  ]
}