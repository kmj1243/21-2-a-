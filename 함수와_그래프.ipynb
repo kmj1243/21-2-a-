{
  "nbformat": 4,
  "nbformat_minor": 0,
  "metadata": {
    "colab": {
      "name": "함수와 그래프.ipynb",
      "provenance": [],
      "authorship_tag": "ABX9TyMI6WFqv3r3Q8Cav8/U8sA/",
      "include_colab_link": true
    },
    "kernelspec": {
      "name": "python3",
      "display_name": "Python 3"
    },
    "language_info": {
      "name": "python"
    }
  },
  "cells": [
    {
      "cell_type": "markdown",
      "metadata": {
        "id": "view-in-github",
        "colab_type": "text"
      },
      "source": [
        "<a href=\"https://colab.research.google.com/github/kmj1243/21-2-a-/blob/main/%ED%95%A8%EC%88%98%EC%99%80_%EA%B7%B8%EB%9E%98%ED%94%84.ipynb\" target=\"_parent\"><img src=\"https://colab.research.google.com/assets/colab-badge.svg\" alt=\"Open In Colab\"/></a>"
      ]
    },
    {
      "cell_type": "markdown",
      "metadata": {
        "id": "TB8fplmbJk5Y"
      },
      "source": [
        "### 프로그램을 만들려면\n",
        "   가장 먼저\n"
      ]
    },
    {
      "cell_type": "code",
      "metadata": {
        "id": "u-6MX0hyJqci"
      },
      "source": [
        ""
      ],
      "execution_count": null,
      "outputs": []
    },
    {
      "cell_type": "code",
      "metadata": {
        "id": "p7Y71VKUJqg3"
      },
      "source": [
        ""
      ],
      "execution_count": null,
      "outputs": []
    },
    {
      "cell_type": "markdown",
      "metadata": {
        "id": "qZ6N56S4JRlT"
      },
      "source": [
        "### 구구단을 예를들면\n",
        "- 함수 이름은:GuGu로 하자.\n",
        "- 입력받는 값은: 2\n",
        "- 출력하는 값은: 2단(2,4,6,8...)\n",
        "- 결과는 : 연속된 자료형이므로 리스트!!!"
      ]
    },
    {
      "cell_type": "code",
      "metadata": {
        "id": "IgUzcupuFCZP"
      },
      "source": [
        "# result = GuGu(2)\n",
        "# result = [2,4,6,8,10,12,14,16,18]"
      ],
      "execution_count": null,
      "outputs": []
    },
    {
      "cell_type": "code",
      "metadata": {
        "id": "goQT_NnlKJ6O"
      },
      "source": [
        "def GuGu(n):\n",
        "  print(n)"
      ],
      "execution_count": null,
      "outputs": []
    },
    {
      "cell_type": "code",
      "metadata": {
        "colab": {
          "base_uri": "https://localhost:8080/"
        },
        "id": "V8xpc0gxKNre",
        "outputId": "6cfe903f-49f9-4b7e-90b8-104e7decff43"
      },
      "source": [
        "GuGu(2)"
      ],
      "execution_count": null,
      "outputs": [
        {
          "output_type": "stream",
          "name": "stdout",
          "text": [
            "2\n"
          ]
        }
      ]
    },
    {
      "cell_type": "code",
      "metadata": {
        "id": "kjrMA04EKPlW"
      },
      "source": [
        "def GuGu(n):\n",
        "  result = []\n",
        "  i = 1\n",
        "  while i < 10:\n",
        "    result.append(n*1)\n",
        "    i += 1\n",
        "  return result"
      ],
      "execution_count": null,
      "outputs": []
    },
    {
      "cell_type": "code",
      "metadata": {
        "colab": {
          "base_uri": "https://localhost:8080/"
        },
        "id": "Jf9yQQ07Kx-v",
        "outputId": "4deb8750-9127-4f01-80eb-aa090cb85ebc"
      },
      "source": [
        "GuGu(2)"
      ],
      "execution_count": null,
      "outputs": [
        {
          "output_type": "execute_result",
          "data": {
            "text/plain": [
              "[2, 4, 6, 8, 10, 12, 14, 16, 18]"
            ]
          },
          "metadata": {},
          "execution_count": 11
        }
      ]
    },
    {
      "cell_type": "code",
      "metadata": {
        "colab": {
          "base_uri": "https://localhost:8080/"
        },
        "id": "Su-F2x5jKzgP",
        "outputId": "abfb94f4-dd96-4eb2-ae1d-b38178e82e12"
      },
      "source": [
        "i = 1\n",
        "while i < 10:\n",
        "  print(i)\n",
        "  i += 1"
      ],
      "execution_count": null,
      "outputs": [
        {
          "output_type": "stream",
          "name": "stdout",
          "text": [
            "1\n",
            "2\n",
            "3\n",
            "4\n",
            "5\n",
            "6\n",
            "7\n",
            "8\n",
            "9\n"
          ]
        }
      ]
    },
    {
      "cell_type": "markdown",
      "metadata": {
        "id": "8mOtMp6kNBxo"
      },
      "source": [
        "10 미만의 자연수에서 3과 5의 배수를 구하면 3, 5, 6, 9이다. 이들의 총합은 23이다.\n",
        "1000 미만의 자연수에서 3의 배수와 5의 배수의 총합을 구하라."
      ]
    },
    {
      "cell_type": "markdown",
      "metadata": {
        "id": "2AyKtpQzRTQs"
      },
      "source": [
        "# 클래스"
      ]
    },
    {
      "cell_type": "markdown",
      "metadata": {
        "id": "D0bHPG9IRoYI"
      },
      "source": [
        "- 코드 중복방지\n",
        "- 캡슐화\n"
      ]
    },
    {
      "cell_type": "markdown",
      "metadata": {
        "id": "RwXvIcmWSCFd"
      },
      "source": [
        "객체 지향 프로그래밍은 컴퓨터 프로그램을 명령어의 목록으로 보는 시각에서 벗어나 여러개의 독립된 단위, 즉 \"객체\"들의 모임으로 파악하고자 하는 것이다. 각각의 객체는 메시지를 주고받고, 데이터를 처라할 수 있다."
      ]
    },
    {
      "cell_type": "markdown",
      "metadata": {
        "id": "JckeiyQ8Sq_x"
      },
      "source": [
        "- 자료 추상화\n",
        " - 불필요한 정보는 숨기고 중요한 정보만을 표현함으로써 프로그램을 간단히 만드는 것(캡슐화) \n",
        "- 상속\n",
        " - 새로운 클래스가 기존의 클래스의 자료와 연산을 이용할 수 있게 하는 기능\n",
        "- 다중 상속\n",
        " - 클래스가 2개 이상의 클래스로부터 상속받을 수 있게 하는 기능\n",
        "- 다형성 개념\n",
        " - 어떤 한 요소에 여러 개념을 넣어 놓는\n",
        " 것으로 일반적으로 오버라이딩(같은 이름의 메소드거 여러 클래스에서 다른 기능을 하는 것)이나 오버로딩    (같은 이름의 에소드가 인자의 개수나 자료형에 따라서 다른 기능을 하는 것)을 의미\n",
        "- 동적 바이딩\n",
        " - 실행 시간 중에 일어나거나 실행 과정에서 변경될 수 있는 바인딩으로 컴파일 시간에 완료되어 변화하지 않는 정적 바인딩과 대비되는 개념\n",
        " \n"
      ]
    },
    {
      "cell_type": "code",
      "metadata": {
        "id": "f6duO4OXNO22"
      },
      "source": [
        "class Person():\n",
        "  def __init__(self, name, age):\n",
        "    self.name = name\n",
        "    self.age = age\n",
        "  \n",
        "  def getPerson(self):\n",
        "    return self.name, self.age"
      ],
      "execution_count": null,
      "outputs": []
    },
    {
      "cell_type": "code",
      "metadata": {
        "id": "CJedlYgbXT_D"
      },
      "source": [
        "ins_1 = Person('주노',22)\n",
        "ins_2 = Person('수지',20)"
      ],
      "execution_count": null,
      "outputs": []
    },
    {
      "cell_type": "code",
      "metadata": {
        "colab": {
          "base_uri": "https://localhost:8080/"
        },
        "id": "oJvDciHcXoWO",
        "outputId": "b451cc66-ea0b-46e6-e13c-99c613931748"
      },
      "source": [
        "#ins_1.name. ins_1.age\n",
        "ins_1.getPerson()"
      ],
      "execution_count": null,
      "outputs": [
        {
          "output_type": "execute_result",
          "data": {
            "text/plain": [
              "('주노', 22)"
            ]
          },
          "metadata": {},
          "execution_count": 34
        }
      ]
    },
    {
      "cell_type": "code",
      "metadata": {
        "colab": {
          "base_uri": "https://localhost:8080/"
        },
        "id": "71aEvwLPX5a0",
        "outputId": "f1f09087-8426-41e9-b129-d88e57faaf33"
      },
      "source": [
        "# ins_2.name, ins_2.age\n",
        "ins_2.getPerson()"
      ],
      "execution_count": null,
      "outputs": [
        {
          "output_type": "execute_result",
          "data": {
            "text/plain": [
              "('수지', 20)"
            ]
          },
          "metadata": {},
          "execution_count": 35
        }
      ]
    },
    {
      "cell_type": "code",
      "metadata": {
        "colab": {
          "base_uri": "https://localhost:8080/"
        },
        "id": "WtDbsCZEYGHE",
        "outputId": "fccb2ffa-e6bf-47da-8155-2d4449681739"
      },
      "source": [
        "ins_2.__dict__"
      ],
      "execution_count": null,
      "outputs": [
        {
          "output_type": "execute_result",
          "data": {
            "text/plain": [
              "{'age': 20, 'name': '수지'}"
            ]
          },
          "metadata": {},
          "execution_count": 36
        }
      ]
    },
    {
      "cell_type": "code",
      "metadata": {
        "colab": {
          "base_uri": "https://localhost:8080/"
        },
        "id": "5xp9axbSaRIa",
        "outputId": "e00d6665-bdb8-4dc8-964c-94f34a5acdf4"
      },
      "source": [
        "ins_1.__dict__"
      ],
      "execution_count": null,
      "outputs": [
        {
          "output_type": "execute_result",
          "data": {
            "text/plain": [
              "{'age': 22, 'name': '주노'}"
            ]
          },
          "metadata": {},
          "execution_count": 37
        }
      ]
    },
    {
      "cell_type": "markdown",
      "metadata": {
        "id": "wJX0xiVOaVSr"
      },
      "source": [
        "- 클래스에서 인스턴스(instance)를 생성시 __init__메서드에 가진 속성들만 각 인스턴스를 만들어짐"
      ]
    },
    {
      "cell_type": "code",
      "metadata": {
        "id": "SeVee-KKaTog"
      },
      "source": [
        ""
      ],
      "execution_count": null,
      "outputs": []
    }
  ]
}